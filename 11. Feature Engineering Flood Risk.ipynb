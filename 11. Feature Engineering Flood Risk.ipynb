{
 "cells": [
  {
   "cell_type": "markdown",
   "metadata": {},
   "source": [
    "# Import libraries"
   ]
  },
  {
   "cell_type": "code",
   "execution_count": 5,
   "metadata": {},
   "outputs": [],
   "source": [
    "import pandas as pd\n",
    "import numpy as np\n",
    "import seaborn as sns\n",
    "import matplotlib\n",
    "import matplotlib.pyplot as plt\n",
    "import scipy\n",
    "import math"
   ]
  },
  {
   "cell_type": "markdown",
   "metadata": {},
   "source": [
    "# Read csv files"
   ]
  },
  {
   "cell_type": "code",
   "execution_count": 54,
   "metadata": {
    "scrolled": true
   },
   "outputs": [
    {
     "data": {
      "text/html": [
       "<div>\n",
       "<style scoped>\n",
       "    .dataframe tbody tr th:only-of-type {\n",
       "        vertical-align: middle;\n",
       "    }\n",
       "\n",
       "    .dataframe tbody tr th {\n",
       "        vertical-align: top;\n",
       "    }\n",
       "\n",
       "    .dataframe thead th {\n",
       "        text-align: right;\n",
       "    }\n",
       "</style>\n",
       "<table border=\"1\" class=\"dataframe\">\n",
       "  <thead>\n",
       "    <tr style=\"text-align: right;\">\n",
       "      <th></th>\n",
       "      <th>Duration</th>\n",
       "      <th>Area</th>\n",
       "      <th>Area_Affected_per_day</th>\n",
       "      <th>Dead</th>\n",
       "      <th>Displaced</th>\n",
       "      <th>MainCause</th>\n",
       "      <th>Elevation</th>\n",
       "      <th>Day0_Temperature</th>\n",
       "      <th>Day.1_Temperature</th>\n",
       "      <th>Day.2_Temperature</th>\n",
       "      <th>...</th>\n",
       "      <th>Day.3_Pressure</th>\n",
       "      <th>Day.4_Pressure</th>\n",
       "      <th>Day0_Condition</th>\n",
       "      <th>Day.1_Condition</th>\n",
       "      <th>Day.2_Condition</th>\n",
       "      <th>Day.3_Condition</th>\n",
       "      <th>Day.4_Condition</th>\n",
       "      <th>Log_Dead</th>\n",
       "      <th>ID</th>\n",
       "      <th>Severity</th>\n",
       "    </tr>\n",
       "  </thead>\n",
       "  <tbody>\n",
       "    <tr>\n",
       "      <th>0</th>\n",
       "      <td>4</td>\n",
       "      <td>92615.67</td>\n",
       "      <td>23153.92</td>\n",
       "      <td>26.0</td>\n",
       "      <td>3000</td>\n",
       "      <td>Heavy Rain</td>\n",
       "      <td>1359.5</td>\n",
       "      <td>66.20</td>\n",
       "      <td>71.60</td>\n",
       "      <td>84.20</td>\n",
       "      <td>...</td>\n",
       "      <td>30.12</td>\n",
       "      <td>30.12</td>\n",
       "      <td>Cloudy</td>\n",
       "      <td>Cloudy</td>\n",
       "      <td>Cloudy</td>\n",
       "      <td>Cloudy</td>\n",
       "      <td>Cloudy</td>\n",
       "      <td>3.258097</td>\n",
       "      <td>1</td>\n",
       "      <td>Low_Risk</td>\n",
       "    </tr>\n",
       "    <tr>\n",
       "      <th>1</th>\n",
       "      <td>18</td>\n",
       "      <td>678498.82</td>\n",
       "      <td>37694.38</td>\n",
       "      <td>229.0</td>\n",
       "      <td>80000</td>\n",
       "      <td>Heavy Rain</td>\n",
       "      <td>565.9</td>\n",
       "      <td>68.59</td>\n",
       "      <td>64.27</td>\n",
       "      <td>76.82</td>\n",
       "      <td>...</td>\n",
       "      <td>30.00</td>\n",
       "      <td>30.12</td>\n",
       "      <td>Cloudy</td>\n",
       "      <td>Cloudy</td>\n",
       "      <td>Clear</td>\n",
       "      <td>Cloudy</td>\n",
       "      <td>Cloudy</td>\n",
       "      <td>5.433722</td>\n",
       "      <td>2</td>\n",
       "      <td>High_Risk</td>\n",
       "    </tr>\n",
       "    <tr>\n",
       "      <th>2</th>\n",
       "      <td>1</td>\n",
       "      <td>12846.03</td>\n",
       "      <td>12846.03</td>\n",
       "      <td>43.0</td>\n",
       "      <td>444</td>\n",
       "      <td>Torrential Rain</td>\n",
       "      <td>892.5</td>\n",
       "      <td>77.79</td>\n",
       "      <td>75.11</td>\n",
       "      <td>69.42</td>\n",
       "      <td>...</td>\n",
       "      <td>29.77</td>\n",
       "      <td>29.80</td>\n",
       "      <td>Cloudy</td>\n",
       "      <td>Rain</td>\n",
       "      <td>Cloudy</td>\n",
       "      <td>Rain</td>\n",
       "      <td>Cloudy</td>\n",
       "      <td>3.761200</td>\n",
       "      <td>3</td>\n",
       "      <td>Low_Risk</td>\n",
       "    </tr>\n",
       "    <tr>\n",
       "      <th>3</th>\n",
       "      <td>14</td>\n",
       "      <td>16542.12</td>\n",
       "      <td>1181.58</td>\n",
       "      <td>21.0</td>\n",
       "      <td>300</td>\n",
       "      <td>Torrential Rain</td>\n",
       "      <td>592.8</td>\n",
       "      <td>89.60</td>\n",
       "      <td>80.60</td>\n",
       "      <td>75.20</td>\n",
       "      <td>...</td>\n",
       "      <td>29.80</td>\n",
       "      <td>29.83</td>\n",
       "      <td>Cloudy</td>\n",
       "      <td>Cloudy</td>\n",
       "      <td>Cloudy</td>\n",
       "      <td>Cloudy</td>\n",
       "      <td>Cloudy</td>\n",
       "      <td>3.044522</td>\n",
       "      <td>4</td>\n",
       "      <td>Low_Risk</td>\n",
       "    </tr>\n",
       "    <tr>\n",
       "      <th>4</th>\n",
       "      <td>2</td>\n",
       "      <td>20082.21</td>\n",
       "      <td>10041.10</td>\n",
       "      <td>19.0</td>\n",
       "      <td>0</td>\n",
       "      <td>Heavy Rain</td>\n",
       "      <td>73.1</td>\n",
       "      <td>53.29</td>\n",
       "      <td>68.65</td>\n",
       "      <td>70.30</td>\n",
       "      <td>...</td>\n",
       "      <td>30.59</td>\n",
       "      <td>30.56</td>\n",
       "      <td>Clear</td>\n",
       "      <td>Cloudy</td>\n",
       "      <td>Cloudy</td>\n",
       "      <td>Clear</td>\n",
       "      <td>Clear</td>\n",
       "      <td>2.944439</td>\n",
       "      <td>5</td>\n",
       "      <td>High_Risk</td>\n",
       "    </tr>\n",
       "    <tr>\n",
       "      <th>5</th>\n",
       "      <td>12</td>\n",
       "      <td>1035.61</td>\n",
       "      <td>86.30</td>\n",
       "      <td>2.0</td>\n",
       "      <td>35000</td>\n",
       "      <td>Tropial Cyclone</td>\n",
       "      <td>581.8</td>\n",
       "      <td>68.00</td>\n",
       "      <td>78.80</td>\n",
       "      <td>78.80</td>\n",
       "      <td>...</td>\n",
       "      <td>30.12</td>\n",
       "      <td>30.03</td>\n",
       "      <td>Rain</td>\n",
       "      <td>Cloudy</td>\n",
       "      <td>Cloudy</td>\n",
       "      <td>Rain</td>\n",
       "      <td>Rain</td>\n",
       "      <td>0.693147</td>\n",
       "      <td>6</td>\n",
       "      <td>Low_Risk</td>\n",
       "    </tr>\n",
       "    <tr>\n",
       "      <th>6</th>\n",
       "      <td>1</td>\n",
       "      <td>7871.37</td>\n",
       "      <td>7871.37</td>\n",
       "      <td>4.0</td>\n",
       "      <td>200</td>\n",
       "      <td>Heavy Rain</td>\n",
       "      <td>187.5</td>\n",
       "      <td>53.01</td>\n",
       "      <td>51.62</td>\n",
       "      <td>51.01</td>\n",
       "      <td>...</td>\n",
       "      <td>30.00</td>\n",
       "      <td>29.94</td>\n",
       "      <td>Rain</td>\n",
       "      <td>Rain</td>\n",
       "      <td>Rain</td>\n",
       "      <td>Rain</td>\n",
       "      <td>Rain</td>\n",
       "      <td>1.386294</td>\n",
       "      <td>7</td>\n",
       "      <td>Low_Risk</td>\n",
       "    </tr>\n",
       "    <tr>\n",
       "      <th>7</th>\n",
       "      <td>4</td>\n",
       "      <td>77091.11</td>\n",
       "      <td>19272.78</td>\n",
       "      <td>10.0</td>\n",
       "      <td>2000</td>\n",
       "      <td>Heavy Rain</td>\n",
       "      <td>1643.6</td>\n",
       "      <td>67.84</td>\n",
       "      <td>67.86</td>\n",
       "      <td>57.47</td>\n",
       "      <td>...</td>\n",
       "      <td>29.80</td>\n",
       "      <td>29.85</td>\n",
       "      <td>Cloudy</td>\n",
       "      <td>Rain</td>\n",
       "      <td>Cloudy</td>\n",
       "      <td>Cloudy</td>\n",
       "      <td>Cloudy</td>\n",
       "      <td>2.302585</td>\n",
       "      <td>8</td>\n",
       "      <td>Low_Risk</td>\n",
       "    </tr>\n",
       "    <tr>\n",
       "      <th>8</th>\n",
       "      <td>7</td>\n",
       "      <td>210527.96</td>\n",
       "      <td>30075.42</td>\n",
       "      <td>7.0</td>\n",
       "      <td>2250</td>\n",
       "      <td>Snow</td>\n",
       "      <td>258.9</td>\n",
       "      <td>42.00</td>\n",
       "      <td>35.00</td>\n",
       "      <td>22.00</td>\n",
       "      <td>...</td>\n",
       "      <td>29.38</td>\n",
       "      <td>29.51</td>\n",
       "      <td>Cloudy</td>\n",
       "      <td>Cloudy</td>\n",
       "      <td>Cloudy</td>\n",
       "      <td>Cloudy</td>\n",
       "      <td>Clear</td>\n",
       "      <td>1.945910</td>\n",
       "      <td>9</td>\n",
       "      <td>High_Risk</td>\n",
       "    </tr>\n",
       "    <tr>\n",
       "      <th>9</th>\n",
       "      <td>3</td>\n",
       "      <td>69706.89</td>\n",
       "      <td>23235.63</td>\n",
       "      <td>2.0</td>\n",
       "      <td>1000</td>\n",
       "      <td>Heavy Rain</td>\n",
       "      <td>402.9</td>\n",
       "      <td>61.56</td>\n",
       "      <td>59.09</td>\n",
       "      <td>69.94</td>\n",
       "      <td>...</td>\n",
       "      <td>29.83</td>\n",
       "      <td>29.94</td>\n",
       "      <td>Cloudy</td>\n",
       "      <td>Cloudy</td>\n",
       "      <td>Cloudy</td>\n",
       "      <td>Clear</td>\n",
       "      <td>Cloudy</td>\n",
       "      <td>0.693147</td>\n",
       "      <td>10</td>\n",
       "      <td>Low_Risk</td>\n",
       "    </tr>\n",
       "    <tr>\n",
       "      <th>10</th>\n",
       "      <td>5</td>\n",
       "      <td>26266.14</td>\n",
       "      <td>5253.23</td>\n",
       "      <td>4.0</td>\n",
       "      <td>2400</td>\n",
       "      <td>Snow</td>\n",
       "      <td>169.4</td>\n",
       "      <td>34.00</td>\n",
       "      <td>37.00</td>\n",
       "      <td>39.00</td>\n",
       "      <td>...</td>\n",
       "      <td>29.70</td>\n",
       "      <td>29.59</td>\n",
       "      <td>Cloudy</td>\n",
       "      <td>Clear</td>\n",
       "      <td>Cloudy</td>\n",
       "      <td>Clear</td>\n",
       "      <td>Cloudy</td>\n",
       "      <td>1.386294</td>\n",
       "      <td>11</td>\n",
       "      <td>High_Risk</td>\n",
       "    </tr>\n",
       "    <tr>\n",
       "      <th>11</th>\n",
       "      <td>1</td>\n",
       "      <td>26527.13</td>\n",
       "      <td>26527.13</td>\n",
       "      <td>0.0</td>\n",
       "      <td>80</td>\n",
       "      <td>Snow</td>\n",
       "      <td>2090.6</td>\n",
       "      <td>37.00</td>\n",
       "      <td>51.00</td>\n",
       "      <td>54.00</td>\n",
       "      <td>...</td>\n",
       "      <td>24.70</td>\n",
       "      <td>24.76</td>\n",
       "      <td>Clear</td>\n",
       "      <td>Cloudy</td>\n",
       "      <td>Cloudy</td>\n",
       "      <td>Cloudy</td>\n",
       "      <td>Cloudy</td>\n",
       "      <td>0.000000</td>\n",
       "      <td>12</td>\n",
       "      <td>Low_Risk</td>\n",
       "    </tr>\n",
       "    <tr>\n",
       "      <th>12</th>\n",
       "      <td>1</td>\n",
       "      <td>141508.00</td>\n",
       "      <td>141508.00</td>\n",
       "      <td>0.0</td>\n",
       "      <td>0</td>\n",
       "      <td>Heavy Rain</td>\n",
       "      <td>99.9</td>\n",
       "      <td>83.19</td>\n",
       "      <td>77.25</td>\n",
       "      <td>80.64</td>\n",
       "      <td>...</td>\n",
       "      <td>30.00</td>\n",
       "      <td>29.97</td>\n",
       "      <td>Clear</td>\n",
       "      <td>Cloudy</td>\n",
       "      <td>Clear</td>\n",
       "      <td>Cloudy</td>\n",
       "      <td>Clear</td>\n",
       "      <td>0.000000</td>\n",
       "      <td>13</td>\n",
       "      <td>Low_Risk</td>\n",
       "    </tr>\n",
       "    <tr>\n",
       "      <th>13</th>\n",
       "      <td>1</td>\n",
       "      <td>16883.54</td>\n",
       "      <td>16883.54</td>\n",
       "      <td>0.0</td>\n",
       "      <td>300</td>\n",
       "      <td>Heavy Rain</td>\n",
       "      <td>191.6</td>\n",
       "      <td>38.00</td>\n",
       "      <td>43.00</td>\n",
       "      <td>55.00</td>\n",
       "      <td>...</td>\n",
       "      <td>29.33</td>\n",
       "      <td>29.71</td>\n",
       "      <td>Cloudy</td>\n",
       "      <td>Cloudy</td>\n",
       "      <td>Cloudy</td>\n",
       "      <td>Cloudy</td>\n",
       "      <td>Clear</td>\n",
       "      <td>0.000000</td>\n",
       "      <td>14</td>\n",
       "      <td>Low_Risk</td>\n",
       "    </tr>\n",
       "    <tr>\n",
       "      <th>14</th>\n",
       "      <td>15</td>\n",
       "      <td>1970402.21</td>\n",
       "      <td>131360.15</td>\n",
       "      <td>32.0</td>\n",
       "      <td>700000</td>\n",
       "      <td>Heavy Rain</td>\n",
       "      <td>253.9</td>\n",
       "      <td>72.09</td>\n",
       "      <td>67.08</td>\n",
       "      <td>87.10</td>\n",
       "      <td>...</td>\n",
       "      <td>29.80</td>\n",
       "      <td>29.91</td>\n",
       "      <td>Cloudy</td>\n",
       "      <td>Clear</td>\n",
       "      <td>Clear</td>\n",
       "      <td>Cloudy</td>\n",
       "      <td>Clear</td>\n",
       "      <td>3.465736</td>\n",
       "      <td>15</td>\n",
       "      <td>High_Risk</td>\n",
       "    </tr>\n",
       "    <tr>\n",
       "      <th>15</th>\n",
       "      <td>1</td>\n",
       "      <td>17192.76</td>\n",
       "      <td>17192.76</td>\n",
       "      <td>1.0</td>\n",
       "      <td>200</td>\n",
       "      <td>Heavy Rain</td>\n",
       "      <td>16.6</td>\n",
       "      <td>0.00</td>\n",
       "      <td>68.00</td>\n",
       "      <td>61.00</td>\n",
       "      <td>...</td>\n",
       "      <td>30.19</td>\n",
       "      <td>29.96</td>\n",
       "      <td>Cloudy</td>\n",
       "      <td>Cloudy</td>\n",
       "      <td>Cloudy</td>\n",
       "      <td>Cloudy</td>\n",
       "      <td>Cloudy</td>\n",
       "      <td>0.000000</td>\n",
       "      <td>16</td>\n",
       "      <td>Low_Risk</td>\n",
       "    </tr>\n",
       "    <tr>\n",
       "      <th>16</th>\n",
       "      <td>8</td>\n",
       "      <td>300325.08</td>\n",
       "      <td>37540.64</td>\n",
       "      <td>0.0</td>\n",
       "      <td>200</td>\n",
       "      <td>Other</td>\n",
       "      <td>440.0</td>\n",
       "      <td>87.44</td>\n",
       "      <td>83.21</td>\n",
       "      <td>70.81</td>\n",
       "      <td>...</td>\n",
       "      <td>29.59</td>\n",
       "      <td>29.59</td>\n",
       "      <td>Cloudy</td>\n",
       "      <td>Cloudy</td>\n",
       "      <td>Cloudy</td>\n",
       "      <td>Clear</td>\n",
       "      <td>Cloudy</td>\n",
       "      <td>0.000000</td>\n",
       "      <td>17</td>\n",
       "      <td>Low_Risk</td>\n",
       "    </tr>\n",
       "    <tr>\n",
       "      <th>17</th>\n",
       "      <td>1</td>\n",
       "      <td>5123.72</td>\n",
       "      <td>5123.72</td>\n",
       "      <td>0.0</td>\n",
       "      <td>400</td>\n",
       "      <td>Snow</td>\n",
       "      <td>487.4</td>\n",
       "      <td>54.00</td>\n",
       "      <td>57.00</td>\n",
       "      <td>59.00</td>\n",
       "      <td>...</td>\n",
       "      <td>28.56</td>\n",
       "      <td>28.58</td>\n",
       "      <td>Cloudy</td>\n",
       "      <td>Clear</td>\n",
       "      <td>Cloudy</td>\n",
       "      <td>Cloudy</td>\n",
       "      <td>Cloudy</td>\n",
       "      <td>0.000000</td>\n",
       "      <td>18</td>\n",
       "      <td>High_Risk</td>\n",
       "    </tr>\n",
       "    <tr>\n",
       "      <th>18</th>\n",
       "      <td>1</td>\n",
       "      <td>116344.02</td>\n",
       "      <td>116344.02</td>\n",
       "      <td>2.0</td>\n",
       "      <td>0</td>\n",
       "      <td>Heavy Rain</td>\n",
       "      <td>1725.9</td>\n",
       "      <td>48.00</td>\n",
       "      <td>54.00</td>\n",
       "      <td>57.00</td>\n",
       "      <td>...</td>\n",
       "      <td>24.58</td>\n",
       "      <td>24.49</td>\n",
       "      <td>Cloudy</td>\n",
       "      <td>Cloudy</td>\n",
       "      <td>Cloudy</td>\n",
       "      <td>Cloudy</td>\n",
       "      <td>Clear</td>\n",
       "      <td>0.693147</td>\n",
       "      <td>19</td>\n",
       "      <td>Low_Risk</td>\n",
       "    </tr>\n",
       "    <tr>\n",
       "      <th>19</th>\n",
       "      <td>1</td>\n",
       "      <td>1423.92</td>\n",
       "      <td>1423.92</td>\n",
       "      <td>2.0</td>\n",
       "      <td>4500</td>\n",
       "      <td>Heavy Rain</td>\n",
       "      <td>417.6</td>\n",
       "      <td>74.88</td>\n",
       "      <td>71.69</td>\n",
       "      <td>83.14</td>\n",
       "      <td>...</td>\n",
       "      <td>28.26</td>\n",
       "      <td>28.29</td>\n",
       "      <td>Clear</td>\n",
       "      <td>Clear</td>\n",
       "      <td>Clear</td>\n",
       "      <td>Rain</td>\n",
       "      <td>Rain</td>\n",
       "      <td>0.693147</td>\n",
       "      <td>20</td>\n",
       "      <td>Low_Risk</td>\n",
       "    </tr>\n",
       "    <tr>\n",
       "      <th>20</th>\n",
       "      <td>11</td>\n",
       "      <td>458666.21</td>\n",
       "      <td>41696.93</td>\n",
       "      <td>64.0</td>\n",
       "      <td>10000</td>\n",
       "      <td>Heavy Rain</td>\n",
       "      <td>418.9</td>\n",
       "      <td>87.80</td>\n",
       "      <td>91.40</td>\n",
       "      <td>82.40</td>\n",
       "      <td>...</td>\n",
       "      <td>29.68</td>\n",
       "      <td>29.71</td>\n",
       "      <td>Cloudy</td>\n",
       "      <td>Cloudy</td>\n",
       "      <td>Cloudy</td>\n",
       "      <td>Cloudy</td>\n",
       "      <td>Cloudy</td>\n",
       "      <td>4.158883</td>\n",
       "      <td>21</td>\n",
       "      <td>High_Risk</td>\n",
       "    </tr>\n",
       "    <tr>\n",
       "      <th>21</th>\n",
       "      <td>2</td>\n",
       "      <td>78653.41</td>\n",
       "      <td>39326.70</td>\n",
       "      <td>25.0</td>\n",
       "      <td>100000</td>\n",
       "      <td>Heavy Rain</td>\n",
       "      <td>23.7</td>\n",
       "      <td>47.50</td>\n",
       "      <td>46.13</td>\n",
       "      <td>49.96</td>\n",
       "      <td>...</td>\n",
       "      <td>30.18</td>\n",
       "      <td>30.21</td>\n",
       "      <td>Cloudy</td>\n",
       "      <td>Cloudy</td>\n",
       "      <td>Cloudy</td>\n",
       "      <td>Clear</td>\n",
       "      <td>Cloudy</td>\n",
       "      <td>3.218876</td>\n",
       "      <td>22</td>\n",
       "      <td>High_Risk</td>\n",
       "    </tr>\n",
       "    <tr>\n",
       "      <th>22</th>\n",
       "      <td>19</td>\n",
       "      <td>8910.30</td>\n",
       "      <td>468.96</td>\n",
       "      <td>7.0</td>\n",
       "      <td>100000</td>\n",
       "      <td>Heavy Rain</td>\n",
       "      <td>8.0</td>\n",
       "      <td>85.08</td>\n",
       "      <td>90.57</td>\n",
       "      <td>81.57</td>\n",
       "      <td>...</td>\n",
       "      <td>29.68</td>\n",
       "      <td>29.68</td>\n",
       "      <td>Rain</td>\n",
       "      <td>Rain</td>\n",
       "      <td>Rain</td>\n",
       "      <td>Rain</td>\n",
       "      <td>Rain</td>\n",
       "      <td>1.945910</td>\n",
       "      <td>23</td>\n",
       "      <td>High_Risk</td>\n",
       "    </tr>\n",
       "    <tr>\n",
       "      <th>23</th>\n",
       "      <td>1</td>\n",
       "      <td>83470.44</td>\n",
       "      <td>83470.44</td>\n",
       "      <td>6.0</td>\n",
       "      <td>100</td>\n",
       "      <td>Heavy Rain</td>\n",
       "      <td>366.3</td>\n",
       "      <td>66.00</td>\n",
       "      <td>73.00</td>\n",
       "      <td>74.00</td>\n",
       "      <td>...</td>\n",
       "      <td>28.63</td>\n",
       "      <td>28.67</td>\n",
       "      <td>Cloudy</td>\n",
       "      <td>Cloudy</td>\n",
       "      <td>Cloudy</td>\n",
       "      <td>Cloudy</td>\n",
       "      <td>Cloudy</td>\n",
       "      <td>1.791759</td>\n",
       "      <td>24</td>\n",
       "      <td>Low_Risk</td>\n",
       "    </tr>\n",
       "    <tr>\n",
       "      <th>24</th>\n",
       "      <td>1</td>\n",
       "      <td>9865.44</td>\n",
       "      <td>9865.44</td>\n",
       "      <td>0.0</td>\n",
       "      <td>320</td>\n",
       "      <td>Heavy Rain</td>\n",
       "      <td>220.3</td>\n",
       "      <td>71.00</td>\n",
       "      <td>82.00</td>\n",
       "      <td>74.00</td>\n",
       "      <td>...</td>\n",
       "      <td>29.25</td>\n",
       "      <td>29.19</td>\n",
       "      <td>Cloudy</td>\n",
       "      <td>Clear</td>\n",
       "      <td>Clear</td>\n",
       "      <td>Cloudy</td>\n",
       "      <td>Cloudy</td>\n",
       "      <td>0.000000</td>\n",
       "      <td>25</td>\n",
       "      <td>High_Risk</td>\n",
       "    </tr>\n",
       "    <tr>\n",
       "      <th>25</th>\n",
       "      <td>8</td>\n",
       "      <td>7768.19</td>\n",
       "      <td>971.02</td>\n",
       "      <td>98.0</td>\n",
       "      <td>130000</td>\n",
       "      <td>Tropial Cyclone</td>\n",
       "      <td>0.5</td>\n",
       "      <td>91.00</td>\n",
       "      <td>92.57</td>\n",
       "      <td>86.56</td>\n",
       "      <td>...</td>\n",
       "      <td>29.80</td>\n",
       "      <td>29.77</td>\n",
       "      <td>Cloudy</td>\n",
       "      <td>Rain</td>\n",
       "      <td>Cloudy</td>\n",
       "      <td>Rain</td>\n",
       "      <td>Cloudy</td>\n",
       "      <td>4.584967</td>\n",
       "      <td>26</td>\n",
       "      <td>Low_Risk</td>\n",
       "    </tr>\n",
       "    <tr>\n",
       "      <th>26</th>\n",
       "      <td>4</td>\n",
       "      <td>254234.60</td>\n",
       "      <td>63558.65</td>\n",
       "      <td>95.0</td>\n",
       "      <td>25000</td>\n",
       "      <td>Heavy Rain</td>\n",
       "      <td>571.8</td>\n",
       "      <td>71.76</td>\n",
       "      <td>74.12</td>\n",
       "      <td>72.63</td>\n",
       "      <td>...</td>\n",
       "      <td>29.68</td>\n",
       "      <td>29.68</td>\n",
       "      <td>Cloudy</td>\n",
       "      <td>Rain</td>\n",
       "      <td>Rain</td>\n",
       "      <td>Rain</td>\n",
       "      <td>Cloudy</td>\n",
       "      <td>4.553877</td>\n",
       "      <td>27</td>\n",
       "      <td>Low_Risk</td>\n",
       "    </tr>\n",
       "    <tr>\n",
       "      <th>27</th>\n",
       "      <td>12</td>\n",
       "      <td>290679.68</td>\n",
       "      <td>24223.31</td>\n",
       "      <td>275.0</td>\n",
       "      <td>60000</td>\n",
       "      <td>Heavy Rain</td>\n",
       "      <td>205.4</td>\n",
       "      <td>89.28</td>\n",
       "      <td>91.35</td>\n",
       "      <td>80.51</td>\n",
       "      <td>...</td>\n",
       "      <td>29.65</td>\n",
       "      <td>29.65</td>\n",
       "      <td>Cloudy</td>\n",
       "      <td>Cloudy</td>\n",
       "      <td>Cloudy</td>\n",
       "      <td>Cloudy</td>\n",
       "      <td>Rain</td>\n",
       "      <td>5.616771</td>\n",
       "      <td>28</td>\n",
       "      <td>High_Risk</td>\n",
       "    </tr>\n",
       "    <tr>\n",
       "      <th>28</th>\n",
       "      <td>1</td>\n",
       "      <td>6446.85</td>\n",
       "      <td>6446.85</td>\n",
       "      <td>2.0</td>\n",
       "      <td>77000</td>\n",
       "      <td>Heavy Rain</td>\n",
       "      <td>13.9</td>\n",
       "      <td>88.25</td>\n",
       "      <td>92.17</td>\n",
       "      <td>84.20</td>\n",
       "      <td>...</td>\n",
       "      <td>29.62</td>\n",
       "      <td>29.62</td>\n",
       "      <td>Cloudy</td>\n",
       "      <td>Rain</td>\n",
       "      <td>Cloudy</td>\n",
       "      <td>Cloudy</td>\n",
       "      <td>Cloudy</td>\n",
       "      <td>0.693147</td>\n",
       "      <td>29</td>\n",
       "      <td>Low_Risk</td>\n",
       "    </tr>\n",
       "    <tr>\n",
       "      <th>29</th>\n",
       "      <td>1</td>\n",
       "      <td>1927.64</td>\n",
       "      <td>1927.64</td>\n",
       "      <td>3.0</td>\n",
       "      <td>0</td>\n",
       "      <td>Heavy Rain</td>\n",
       "      <td>225.7</td>\n",
       "      <td>55.85</td>\n",
       "      <td>59.72</td>\n",
       "      <td>60.98</td>\n",
       "      <td>...</td>\n",
       "      <td>29.97</td>\n",
       "      <td>30.00</td>\n",
       "      <td>Cloudy</td>\n",
       "      <td>Cloudy</td>\n",
       "      <td>Rain</td>\n",
       "      <td>Cloudy</td>\n",
       "      <td>Cloudy</td>\n",
       "      <td>1.098612</td>\n",
       "      <td>30</td>\n",
       "      <td>Low_Risk</td>\n",
       "    </tr>\n",
       "    <tr>\n",
       "      <th>...</th>\n",
       "      <td>...</td>\n",
       "      <td>...</td>\n",
       "      <td>...</td>\n",
       "      <td>...</td>\n",
       "      <td>...</td>\n",
       "      <td>...</td>\n",
       "      <td>...</td>\n",
       "      <td>...</td>\n",
       "      <td>...</td>\n",
       "      <td>...</td>\n",
       "      <td>...</td>\n",
       "      <td>...</td>\n",
       "      <td>...</td>\n",
       "      <td>...</td>\n",
       "      <td>...</td>\n",
       "      <td>...</td>\n",
       "      <td>...</td>\n",
       "      <td>...</td>\n",
       "      <td>...</td>\n",
       "      <td>...</td>\n",
       "      <td>...</td>\n",
       "    </tr>\n",
       "    <tr>\n",
       "      <th>4896</th>\n",
       "      <td>5</td>\n",
       "      <td>152175.01</td>\n",
       "      <td>30435.00</td>\n",
       "      <td>0.0</td>\n",
       "      <td>120</td>\n",
       "      <td>Heavy Rain</td>\n",
       "      <td>624.0</td>\n",
       "      <td>82.00</td>\n",
       "      <td>62.49</td>\n",
       "      <td>85.00</td>\n",
       "      <td>...</td>\n",
       "      <td>30.00</td>\n",
       "      <td>31.00</td>\n",
       "      <td>Rain</td>\n",
       "      <td>Rain</td>\n",
       "      <td>Rain</td>\n",
       "      <td>Rain</td>\n",
       "      <td>Rain</td>\n",
       "      <td>0.000000</td>\n",
       "      <td>4898</td>\n",
       "      <td>Medium_Risk</td>\n",
       "    </tr>\n",
       "    <tr>\n",
       "      <th>4897</th>\n",
       "      <td>12</td>\n",
       "      <td>126521.34</td>\n",
       "      <td>10543.44</td>\n",
       "      <td>8.0</td>\n",
       "      <td>30</td>\n",
       "      <td>Heavy Rain</td>\n",
       "      <td>345.8</td>\n",
       "      <td>30.00</td>\n",
       "      <td>36.00</td>\n",
       "      <td>65.00</td>\n",
       "      <td>...</td>\n",
       "      <td>29.00</td>\n",
       "      <td>29.23</td>\n",
       "      <td>Cloudy</td>\n",
       "      <td>Cloudy</td>\n",
       "      <td>Rain</td>\n",
       "      <td>Cloudy</td>\n",
       "      <td>Cloudy</td>\n",
       "      <td>2.079442</td>\n",
       "      <td>4899</td>\n",
       "      <td>Medium_Risk</td>\n",
       "    </tr>\n",
       "    <tr>\n",
       "      <th>4898</th>\n",
       "      <td>3</td>\n",
       "      <td>184333.48</td>\n",
       "      <td>61444.49</td>\n",
       "      <td>2.0</td>\n",
       "      <td>10000</td>\n",
       "      <td>Heavy Rain</td>\n",
       "      <td>1143.5</td>\n",
       "      <td>71.00</td>\n",
       "      <td>82.76</td>\n",
       "      <td>70.00</td>\n",
       "      <td>...</td>\n",
       "      <td>30.00</td>\n",
       "      <td>30.00</td>\n",
       "      <td>Rain</td>\n",
       "      <td>Cloudy</td>\n",
       "      <td>Rain</td>\n",
       "      <td>Rain</td>\n",
       "      <td>Rain</td>\n",
       "      <td>0.693147</td>\n",
       "      <td>4900</td>\n",
       "      <td>Medium_Risk</td>\n",
       "    </tr>\n",
       "    <tr>\n",
       "      <th>4899</th>\n",
       "      <td>5</td>\n",
       "      <td>10321.78</td>\n",
       "      <td>2064.36</td>\n",
       "      <td>8.0</td>\n",
       "      <td>0</td>\n",
       "      <td>Torrential Rain</td>\n",
       "      <td>444.5</td>\n",
       "      <td>77.00</td>\n",
       "      <td>107.60</td>\n",
       "      <td>84.00</td>\n",
       "      <td>...</td>\n",
       "      <td>30.00</td>\n",
       "      <td>30.00</td>\n",
       "      <td>Thunder</td>\n",
       "      <td>Cloudy</td>\n",
       "      <td>Thunder</td>\n",
       "      <td>Cloudy</td>\n",
       "      <td>Cloudy</td>\n",
       "      <td>2.079442</td>\n",
       "      <td>4901</td>\n",
       "      <td>High_Risk</td>\n",
       "    </tr>\n",
       "    <tr>\n",
       "      <th>4900</th>\n",
       "      <td>7</td>\n",
       "      <td>42577.65</td>\n",
       "      <td>6082.52</td>\n",
       "      <td>0.0</td>\n",
       "      <td>2000</td>\n",
       "      <td>Torrential Rain</td>\n",
       "      <td>322.1</td>\n",
       "      <td>96.00</td>\n",
       "      <td>83.10</td>\n",
       "      <td>100.00</td>\n",
       "      <td>...</td>\n",
       "      <td>30.00</td>\n",
       "      <td>30.00</td>\n",
       "      <td>Cloudy</td>\n",
       "      <td>Cloudy</td>\n",
       "      <td>Cloudy</td>\n",
       "      <td>Cloudy</td>\n",
       "      <td>Cloudy</td>\n",
       "      <td>0.000000</td>\n",
       "      <td>4902</td>\n",
       "      <td>Medium_Risk</td>\n",
       "    </tr>\n",
       "    <tr>\n",
       "      <th>4901</th>\n",
       "      <td>7</td>\n",
       "      <td>41569.31</td>\n",
       "      <td>5938.47</td>\n",
       "      <td>9.0</td>\n",
       "      <td>0</td>\n",
       "      <td>Heavy Rain</td>\n",
       "      <td>1602.5</td>\n",
       "      <td>66.00</td>\n",
       "      <td>65.64</td>\n",
       "      <td>69.00</td>\n",
       "      <td>...</td>\n",
       "      <td>30.00</td>\n",
       "      <td>30.00</td>\n",
       "      <td>Cloudy</td>\n",
       "      <td>Cloudy</td>\n",
       "      <td>Rain</td>\n",
       "      <td>Cloudy</td>\n",
       "      <td>Cloudy</td>\n",
       "      <td>2.197225</td>\n",
       "      <td>4903</td>\n",
       "      <td>Medium_Risk</td>\n",
       "    </tr>\n",
       "    <tr>\n",
       "      <th>4902</th>\n",
       "      <td>4</td>\n",
       "      <td>52988.23</td>\n",
       "      <td>13247.06</td>\n",
       "      <td>0.0</td>\n",
       "      <td>2000</td>\n",
       "      <td>Heavy Rain</td>\n",
       "      <td>288.2</td>\n",
       "      <td>82.00</td>\n",
       "      <td>79.00</td>\n",
       "      <td>81.00</td>\n",
       "      <td>...</td>\n",
       "      <td>29.69</td>\n",
       "      <td>29.75</td>\n",
       "      <td>Clear</td>\n",
       "      <td>Clear</td>\n",
       "      <td>Clear</td>\n",
       "      <td>Cloudy</td>\n",
       "      <td>Cloudy</td>\n",
       "      <td>0.000000</td>\n",
       "      <td>4904</td>\n",
       "      <td>Low_Risk</td>\n",
       "    </tr>\n",
       "    <tr>\n",
       "      <th>4903</th>\n",
       "      <td>4</td>\n",
       "      <td>15289.41</td>\n",
       "      <td>3822.35</td>\n",
       "      <td>3.0</td>\n",
       "      <td>0</td>\n",
       "      <td>Torrential Rain</td>\n",
       "      <td>370.7</td>\n",
       "      <td>79.00</td>\n",
       "      <td>92.71</td>\n",
       "      <td>86.00</td>\n",
       "      <td>...</td>\n",
       "      <td>30.00</td>\n",
       "      <td>30.00</td>\n",
       "      <td>Cloudy</td>\n",
       "      <td>Cloudy</td>\n",
       "      <td>Cloudy</td>\n",
       "      <td>Cloudy</td>\n",
       "      <td>Rain</td>\n",
       "      <td>1.098612</td>\n",
       "      <td>4905</td>\n",
       "      <td>Low_Risk</td>\n",
       "    </tr>\n",
       "    <tr>\n",
       "      <th>4904</th>\n",
       "      <td>6</td>\n",
       "      <td>77631.98</td>\n",
       "      <td>12938.66</td>\n",
       "      <td>11.0</td>\n",
       "      <td>90</td>\n",
       "      <td>Heavy Rain</td>\n",
       "      <td>227.9</td>\n",
       "      <td>79.00</td>\n",
       "      <td>94.28</td>\n",
       "      <td>77.00</td>\n",
       "      <td>...</td>\n",
       "      <td>30.00</td>\n",
       "      <td>30.00</td>\n",
       "      <td>Cloudy</td>\n",
       "      <td>Cloudy</td>\n",
       "      <td>Rain</td>\n",
       "      <td>Rain</td>\n",
       "      <td>Cloudy</td>\n",
       "      <td>2.397895</td>\n",
       "      <td>4906</td>\n",
       "      <td>Medium_Risk</td>\n",
       "    </tr>\n",
       "    <tr>\n",
       "      <th>4905</th>\n",
       "      <td>4</td>\n",
       "      <td>8299.71</td>\n",
       "      <td>2074.93</td>\n",
       "      <td>0.0</td>\n",
       "      <td>0</td>\n",
       "      <td>Torrential Rain</td>\n",
       "      <td>537.4</td>\n",
       "      <td>77.00</td>\n",
       "      <td>64.40</td>\n",
       "      <td>77.00</td>\n",
       "      <td>...</td>\n",
       "      <td>31.00</td>\n",
       "      <td>31.00</td>\n",
       "      <td>Cloudy</td>\n",
       "      <td>Cloudy</td>\n",
       "      <td>Rain</td>\n",
       "      <td>Rain</td>\n",
       "      <td>Rain</td>\n",
       "      <td>0.000000</td>\n",
       "      <td>4907</td>\n",
       "      <td>Low_Risk</td>\n",
       "    </tr>\n",
       "    <tr>\n",
       "      <th>4906</th>\n",
       "      <td>2</td>\n",
       "      <td>18949.28</td>\n",
       "      <td>9474.64</td>\n",
       "      <td>10.0</td>\n",
       "      <td>0</td>\n",
       "      <td>Torrential Rain</td>\n",
       "      <td>1453.2</td>\n",
       "      <td>86.00</td>\n",
       "      <td>84.00</td>\n",
       "      <td>91.00</td>\n",
       "      <td>...</td>\n",
       "      <td>29.80</td>\n",
       "      <td>29.74</td>\n",
       "      <td>Cloudy</td>\n",
       "      <td>Cloudy</td>\n",
       "      <td>Cloudy</td>\n",
       "      <td>Clear</td>\n",
       "      <td>Clear</td>\n",
       "      <td>2.302585</td>\n",
       "      <td>4908</td>\n",
       "      <td>Medium_Risk</td>\n",
       "    </tr>\n",
       "    <tr>\n",
       "      <th>4907</th>\n",
       "      <td>6</td>\n",
       "      <td>216986.62</td>\n",
       "      <td>36164.44</td>\n",
       "      <td>7.0</td>\n",
       "      <td>300</td>\n",
       "      <td>Heavy Rain</td>\n",
       "      <td>1491.6</td>\n",
       "      <td>50.00</td>\n",
       "      <td>46.00</td>\n",
       "      <td>52.00</td>\n",
       "      <td>...</td>\n",
       "      <td>25.05</td>\n",
       "      <td>25.08</td>\n",
       "      <td>Cloudy</td>\n",
       "      <td>Cloudy</td>\n",
       "      <td>Cloudy</td>\n",
       "      <td>Clear</td>\n",
       "      <td>Clear</td>\n",
       "      <td>1.945910</td>\n",
       "      <td>4909</td>\n",
       "      <td>Medium_Risk</td>\n",
       "    </tr>\n",
       "    <tr>\n",
       "      <th>4908</th>\n",
       "      <td>2</td>\n",
       "      <td>169211.00</td>\n",
       "      <td>84605.50</td>\n",
       "      <td>0.0</td>\n",
       "      <td>0</td>\n",
       "      <td>Other</td>\n",
       "      <td>650.0</td>\n",
       "      <td>30.00</td>\n",
       "      <td>34.00</td>\n",
       "      <td>32.00</td>\n",
       "      <td>...</td>\n",
       "      <td>28.04</td>\n",
       "      <td>27.95</td>\n",
       "      <td>Clear</td>\n",
       "      <td>Cloudy</td>\n",
       "      <td>Clear</td>\n",
       "      <td>Cloudy</td>\n",
       "      <td>Clear</td>\n",
       "      <td>0.000000</td>\n",
       "      <td>4910</td>\n",
       "      <td>Low_Risk</td>\n",
       "    </tr>\n",
       "    <tr>\n",
       "      <th>4909</th>\n",
       "      <td>8</td>\n",
       "      <td>428331.40</td>\n",
       "      <td>53541.42</td>\n",
       "      <td>10.0</td>\n",
       "      <td>81000</td>\n",
       "      <td>Heavy Rain</td>\n",
       "      <td>250.2</td>\n",
       "      <td>86.00</td>\n",
       "      <td>84.00</td>\n",
       "      <td>91.00</td>\n",
       "      <td>...</td>\n",
       "      <td>29.80</td>\n",
       "      <td>29.74</td>\n",
       "      <td>Cloudy</td>\n",
       "      <td>Cloudy</td>\n",
       "      <td>Cloudy</td>\n",
       "      <td>Clear</td>\n",
       "      <td>Clear</td>\n",
       "      <td>2.302585</td>\n",
       "      <td>4911</td>\n",
       "      <td>Medium_Risk</td>\n",
       "    </tr>\n",
       "    <tr>\n",
       "      <th>4910</th>\n",
       "      <td>6</td>\n",
       "      <td>134488.38</td>\n",
       "      <td>22414.73</td>\n",
       "      <td>0.0</td>\n",
       "      <td>2062</td>\n",
       "      <td>Heavy Rain</td>\n",
       "      <td>362.5</td>\n",
       "      <td>98.00</td>\n",
       "      <td>69.80</td>\n",
       "      <td>100.00</td>\n",
       "      <td>...</td>\n",
       "      <td>30.00</td>\n",
       "      <td>30.00</td>\n",
       "      <td>Cloudy</td>\n",
       "      <td>Thunder</td>\n",
       "      <td>Cloudy</td>\n",
       "      <td>Clear</td>\n",
       "      <td>Cloudy</td>\n",
       "      <td>0.000000</td>\n",
       "      <td>4912</td>\n",
       "      <td>Low_Risk</td>\n",
       "    </tr>\n",
       "    <tr>\n",
       "      <th>4911</th>\n",
       "      <td>10</td>\n",
       "      <td>84662.22</td>\n",
       "      <td>8466.22</td>\n",
       "      <td>4.0</td>\n",
       "      <td>70000</td>\n",
       "      <td>Dam break</td>\n",
       "      <td>3.6</td>\n",
       "      <td>60.00</td>\n",
       "      <td>104.29</td>\n",
       "      <td>66.00</td>\n",
       "      <td>...</td>\n",
       "      <td>30.00</td>\n",
       "      <td>30.00</td>\n",
       "      <td>Cloudy</td>\n",
       "      <td>Clear</td>\n",
       "      <td>Cloudy</td>\n",
       "      <td>Cloudy</td>\n",
       "      <td>Cloudy</td>\n",
       "      <td>1.386294</td>\n",
       "      <td>4913</td>\n",
       "      <td>High_Risk</td>\n",
       "    </tr>\n",
       "    <tr>\n",
       "      <th>4912</th>\n",
       "      <td>3</td>\n",
       "      <td>46625.90</td>\n",
       "      <td>15541.97</td>\n",
       "      <td>2.0</td>\n",
       "      <td>1100</td>\n",
       "      <td>Tropial Storm</td>\n",
       "      <td>96.7</td>\n",
       "      <td>86.00</td>\n",
       "      <td>90.64</td>\n",
       "      <td>84.00</td>\n",
       "      <td>...</td>\n",
       "      <td>30.00</td>\n",
       "      <td>30.00</td>\n",
       "      <td>Cloudy</td>\n",
       "      <td>Cloudy</td>\n",
       "      <td>Cloudy</td>\n",
       "      <td>Cloudy</td>\n",
       "      <td>Rain</td>\n",
       "      <td>0.693147</td>\n",
       "      <td>4914</td>\n",
       "      <td>Medium_Risk</td>\n",
       "    </tr>\n",
       "    <tr>\n",
       "      <th>4913</th>\n",
       "      <td>2</td>\n",
       "      <td>6215.87</td>\n",
       "      <td>3107.94</td>\n",
       "      <td>0.0</td>\n",
       "      <td>10000</td>\n",
       "      <td>Dam Break</td>\n",
       "      <td>212.0</td>\n",
       "      <td>52.00</td>\n",
       "      <td>50.00</td>\n",
       "      <td>50.00</td>\n",
       "      <td>...</td>\n",
       "      <td>29.15</td>\n",
       "      <td>29.47</td>\n",
       "      <td>Heavy Rain</td>\n",
       "      <td>Clear</td>\n",
       "      <td>Cloudy</td>\n",
       "      <td>Cloudy</td>\n",
       "      <td>Cloudy</td>\n",
       "      <td>0.000000</td>\n",
       "      <td>4915</td>\n",
       "      <td>High_Risk</td>\n",
       "    </tr>\n",
       "    <tr>\n",
       "      <th>4914</th>\n",
       "      <td>4</td>\n",
       "      <td>84572.69</td>\n",
       "      <td>21143.17</td>\n",
       "      <td>0.0</td>\n",
       "      <td>500</td>\n",
       "      <td>Heavy Rain</td>\n",
       "      <td>355.0</td>\n",
       "      <td>87.00</td>\n",
       "      <td>89.24</td>\n",
       "      <td>82.00</td>\n",
       "      <td>...</td>\n",
       "      <td>30.00</td>\n",
       "      <td>30.00</td>\n",
       "      <td>Cloudy</td>\n",
       "      <td>Cloudy</td>\n",
       "      <td>Rain</td>\n",
       "      <td>Cloudy</td>\n",
       "      <td>Rain</td>\n",
       "      <td>0.000000</td>\n",
       "      <td>4916</td>\n",
       "      <td>Medium_Risk</td>\n",
       "    </tr>\n",
       "    <tr>\n",
       "      <th>4915</th>\n",
       "      <td>2</td>\n",
       "      <td>91355.80</td>\n",
       "      <td>45677.90</td>\n",
       "      <td>1.0</td>\n",
       "      <td>0</td>\n",
       "      <td>Heavy Rain</td>\n",
       "      <td>580.4</td>\n",
       "      <td>99.00</td>\n",
       "      <td>100.13</td>\n",
       "      <td>99.00</td>\n",
       "      <td>...</td>\n",
       "      <td>30.00</td>\n",
       "      <td>30.00</td>\n",
       "      <td>Clear</td>\n",
       "      <td>Clear</td>\n",
       "      <td>Cloudy</td>\n",
       "      <td>Cloudy</td>\n",
       "      <td>Cloudy</td>\n",
       "      <td>0.000000</td>\n",
       "      <td>4917</td>\n",
       "      <td>Low_Risk</td>\n",
       "    </tr>\n",
       "    <tr>\n",
       "      <th>4916</th>\n",
       "      <td>3</td>\n",
       "      <td>24825.78</td>\n",
       "      <td>8275.26</td>\n",
       "      <td>2.0</td>\n",
       "      <td>15</td>\n",
       "      <td>Heavy Rain</td>\n",
       "      <td>918.2</td>\n",
       "      <td>49.00</td>\n",
       "      <td>55.98</td>\n",
       "      <td>50.00</td>\n",
       "      <td>...</td>\n",
       "      <td>30.00</td>\n",
       "      <td>30.00</td>\n",
       "      <td>Rain</td>\n",
       "      <td>Cloudy</td>\n",
       "      <td>Rain</td>\n",
       "      <td>Rain</td>\n",
       "      <td>Rain</td>\n",
       "      <td>0.693147</td>\n",
       "      <td>4918</td>\n",
       "      <td>Low_Risk</td>\n",
       "    </tr>\n",
       "    <tr>\n",
       "      <th>4917</th>\n",
       "      <td>11</td>\n",
       "      <td>37966.71</td>\n",
       "      <td>3451.52</td>\n",
       "      <td>30.0</td>\n",
       "      <td>10000</td>\n",
       "      <td>Tropial Storm</td>\n",
       "      <td>99.4</td>\n",
       "      <td>74.00</td>\n",
       "      <td>73.00</td>\n",
       "      <td>74.00</td>\n",
       "      <td>...</td>\n",
       "      <td>29.85</td>\n",
       "      <td>30.00</td>\n",
       "      <td>Rain</td>\n",
       "      <td>Cloudy</td>\n",
       "      <td>Cloudy</td>\n",
       "      <td>Cloudy</td>\n",
       "      <td>Cloudy</td>\n",
       "      <td>3.401197</td>\n",
       "      <td>4919</td>\n",
       "      <td>High_Risk</td>\n",
       "    </tr>\n",
       "    <tr>\n",
       "      <th>4918</th>\n",
       "      <td>1</td>\n",
       "      <td>171281.57</td>\n",
       "      <td>171281.57</td>\n",
       "      <td>0.0</td>\n",
       "      <td>10000</td>\n",
       "      <td>Tropial Storm</td>\n",
       "      <td>332.6</td>\n",
       "      <td>82.00</td>\n",
       "      <td>79.00</td>\n",
       "      <td>79.00</td>\n",
       "      <td>...</td>\n",
       "      <td>30.00</td>\n",
       "      <td>31.00</td>\n",
       "      <td>Cloudy</td>\n",
       "      <td>Cloudy</td>\n",
       "      <td>Thunder</td>\n",
       "      <td>Cloudy</td>\n",
       "      <td>Clear</td>\n",
       "      <td>0.000000</td>\n",
       "      <td>4921</td>\n",
       "      <td>High_Risk</td>\n",
       "    </tr>\n",
       "    <tr>\n",
       "      <th>4919</th>\n",
       "      <td>8</td>\n",
       "      <td>48913.88</td>\n",
       "      <td>6114.24</td>\n",
       "      <td>14.0</td>\n",
       "      <td>200</td>\n",
       "      <td>Tropial Storm</td>\n",
       "      <td>727.9</td>\n",
       "      <td>84.00</td>\n",
       "      <td>90.00</td>\n",
       "      <td>81.00</td>\n",
       "      <td>...</td>\n",
       "      <td>29.78</td>\n",
       "      <td>29.78</td>\n",
       "      <td>Clear</td>\n",
       "      <td>Clear</td>\n",
       "      <td>Clear</td>\n",
       "      <td>Cloudy</td>\n",
       "      <td>Clear</td>\n",
       "      <td>2.639057</td>\n",
       "      <td>4922</td>\n",
       "      <td>Low_Risk</td>\n",
       "    </tr>\n",
       "    <tr>\n",
       "      <th>4920</th>\n",
       "      <td>4</td>\n",
       "      <td>95375.00</td>\n",
       "      <td>23843.75</td>\n",
       "      <td>1.0</td>\n",
       "      <td>100</td>\n",
       "      <td>Torrential Rain</td>\n",
       "      <td>277.1</td>\n",
       "      <td>86.00</td>\n",
       "      <td>86.00</td>\n",
       "      <td>86.00</td>\n",
       "      <td>...</td>\n",
       "      <td>29.66</td>\n",
       "      <td>29.63</td>\n",
       "      <td>Cloudy</td>\n",
       "      <td>Cloudy</td>\n",
       "      <td>Cloudy</td>\n",
       "      <td>Clear</td>\n",
       "      <td>Clear</td>\n",
       "      <td>0.000000</td>\n",
       "      <td>4923</td>\n",
       "      <td>Medium_Risk</td>\n",
       "    </tr>\n",
       "    <tr>\n",
       "      <th>4921</th>\n",
       "      <td>6</td>\n",
       "      <td>65353.26</td>\n",
       "      <td>10892.21</td>\n",
       "      <td>3.0</td>\n",
       "      <td>0</td>\n",
       "      <td>Torrential Rain</td>\n",
       "      <td>573.3</td>\n",
       "      <td>78.00</td>\n",
       "      <td>75.13</td>\n",
       "      <td>78.00</td>\n",
       "      <td>...</td>\n",
       "      <td>30.00</td>\n",
       "      <td>30.00</td>\n",
       "      <td>Rain</td>\n",
       "      <td>Rain</td>\n",
       "      <td>Cloudy</td>\n",
       "      <td>Rain</td>\n",
       "      <td>Rain</td>\n",
       "      <td>1.098612</td>\n",
       "      <td>4924</td>\n",
       "      <td>Low_Risk</td>\n",
       "    </tr>\n",
       "    <tr>\n",
       "      <th>4922</th>\n",
       "      <td>4</td>\n",
       "      <td>47454.12</td>\n",
       "      <td>11863.53</td>\n",
       "      <td>8.0</td>\n",
       "      <td>300</td>\n",
       "      <td>Torrential Rain</td>\n",
       "      <td>1260.7</td>\n",
       "      <td>69.00</td>\n",
       "      <td>77.72</td>\n",
       "      <td>70.00</td>\n",
       "      <td>...</td>\n",
       "      <td>30.00</td>\n",
       "      <td>30.00</td>\n",
       "      <td>Rain</td>\n",
       "      <td>Rain</td>\n",
       "      <td>Rain</td>\n",
       "      <td>Rain</td>\n",
       "      <td>Rain</td>\n",
       "      <td>2.079442</td>\n",
       "      <td>4925</td>\n",
       "      <td>Medium_Risk</td>\n",
       "    </tr>\n",
       "    <tr>\n",
       "      <th>4923</th>\n",
       "      <td>8</td>\n",
       "      <td>17703.47</td>\n",
       "      <td>2212.93</td>\n",
       "      <td>0.0</td>\n",
       "      <td>5200</td>\n",
       "      <td>Heavy Rain</td>\n",
       "      <td>10.4</td>\n",
       "      <td>76.00</td>\n",
       "      <td>82.00</td>\n",
       "      <td>80.00</td>\n",
       "      <td>...</td>\n",
       "      <td>29.81</td>\n",
       "      <td>29.75</td>\n",
       "      <td>Rain</td>\n",
       "      <td>Cloudy</td>\n",
       "      <td>Cloudy</td>\n",
       "      <td>Cloudy</td>\n",
       "      <td>Cloudy</td>\n",
       "      <td>0.000000</td>\n",
       "      <td>4926</td>\n",
       "      <td>Medium_Risk</td>\n",
       "    </tr>\n",
       "    <tr>\n",
       "      <th>4924</th>\n",
       "      <td>1</td>\n",
       "      <td>199450.79</td>\n",
       "      <td>199450.79</td>\n",
       "      <td>0.0</td>\n",
       "      <td>0</td>\n",
       "      <td>Tropial Storm</td>\n",
       "      <td>754.5</td>\n",
       "      <td>77.00</td>\n",
       "      <td>73.00</td>\n",
       "      <td>86.00</td>\n",
       "      <td>...</td>\n",
       "      <td>27.78</td>\n",
       "      <td>27.51</td>\n",
       "      <td>Cloudy</td>\n",
       "      <td>Thunder</td>\n",
       "      <td>Clear</td>\n",
       "      <td>Clear</td>\n",
       "      <td>Clear</td>\n",
       "      <td>0.000000</td>\n",
       "      <td>4927</td>\n",
       "      <td>Medium_Risk</td>\n",
       "    </tr>\n",
       "    <tr>\n",
       "      <th>4925</th>\n",
       "      <td>1</td>\n",
       "      <td>253817.46</td>\n",
       "      <td>253817.46</td>\n",
       "      <td>0.0</td>\n",
       "      <td>0</td>\n",
       "      <td>Tropial Storm</td>\n",
       "      <td>151.5</td>\n",
       "      <td>76.00</td>\n",
       "      <td>74.39</td>\n",
       "      <td>73.00</td>\n",
       "      <td>...</td>\n",
       "      <td>30.00</td>\n",
       "      <td>30.00</td>\n",
       "      <td>Rain</td>\n",
       "      <td>Cloudy</td>\n",
       "      <td>Rain</td>\n",
       "      <td>Rain</td>\n",
       "      <td>Rain</td>\n",
       "      <td>0.000000</td>\n",
       "      <td>4928</td>\n",
       "      <td>Medium_Risk</td>\n",
       "    </tr>\n",
       "  </tbody>\n",
       "</table>\n",
       "<p>4926 rows × 50 columns</p>\n",
       "</div>"
      ],
      "text/plain": [
       "      Duration        Area  Area_Affected_per_day   Dead  Displaced  \\\n",
       "0            4    92615.67               23153.92   26.0       3000   \n",
       "1           18   678498.82               37694.38  229.0      80000   \n",
       "2            1    12846.03               12846.03   43.0        444   \n",
       "3           14    16542.12                1181.58   21.0        300   \n",
       "4            2    20082.21               10041.10   19.0          0   \n",
       "5           12     1035.61                  86.30    2.0      35000   \n",
       "6            1     7871.37                7871.37    4.0        200   \n",
       "7            4    77091.11               19272.78   10.0       2000   \n",
       "8            7   210527.96               30075.42    7.0       2250   \n",
       "9            3    69706.89               23235.63    2.0       1000   \n",
       "10           5    26266.14                5253.23    4.0       2400   \n",
       "11           1    26527.13               26527.13    0.0         80   \n",
       "12           1   141508.00              141508.00    0.0          0   \n",
       "13           1    16883.54               16883.54    0.0        300   \n",
       "14          15  1970402.21              131360.15   32.0     700000   \n",
       "15           1    17192.76               17192.76    1.0        200   \n",
       "16           8   300325.08               37540.64    0.0        200   \n",
       "17           1     5123.72                5123.72    0.0        400   \n",
       "18           1   116344.02              116344.02    2.0          0   \n",
       "19           1     1423.92                1423.92    2.0       4500   \n",
       "20          11   458666.21               41696.93   64.0      10000   \n",
       "21           2    78653.41               39326.70   25.0     100000   \n",
       "22          19     8910.30                 468.96    7.0     100000   \n",
       "23           1    83470.44               83470.44    6.0        100   \n",
       "24           1     9865.44                9865.44    0.0        320   \n",
       "25           8     7768.19                 971.02   98.0     130000   \n",
       "26           4   254234.60               63558.65   95.0      25000   \n",
       "27          12   290679.68               24223.31  275.0      60000   \n",
       "28           1     6446.85                6446.85    2.0      77000   \n",
       "29           1     1927.64                1927.64    3.0          0   \n",
       "...        ...         ...                    ...    ...        ...   \n",
       "4896         5   152175.01               30435.00    0.0        120   \n",
       "4897        12   126521.34               10543.44    8.0         30   \n",
       "4898         3   184333.48               61444.49    2.0      10000   \n",
       "4899         5    10321.78                2064.36    8.0          0   \n",
       "4900         7    42577.65                6082.52    0.0       2000   \n",
       "4901         7    41569.31                5938.47    9.0          0   \n",
       "4902         4    52988.23               13247.06    0.0       2000   \n",
       "4903         4    15289.41                3822.35    3.0          0   \n",
       "4904         6    77631.98               12938.66   11.0         90   \n",
       "4905         4     8299.71                2074.93    0.0          0   \n",
       "4906         2    18949.28                9474.64   10.0          0   \n",
       "4907         6   216986.62               36164.44    7.0        300   \n",
       "4908         2   169211.00               84605.50    0.0          0   \n",
       "4909         8   428331.40               53541.42   10.0      81000   \n",
       "4910         6   134488.38               22414.73    0.0       2062   \n",
       "4911        10    84662.22                8466.22    4.0      70000   \n",
       "4912         3    46625.90               15541.97    2.0       1100   \n",
       "4913         2     6215.87                3107.94    0.0      10000   \n",
       "4914         4    84572.69               21143.17    0.0        500   \n",
       "4915         2    91355.80               45677.90    1.0          0   \n",
       "4916         3    24825.78                8275.26    2.0         15   \n",
       "4917        11    37966.71                3451.52   30.0      10000   \n",
       "4918         1   171281.57              171281.57    0.0      10000   \n",
       "4919         8    48913.88                6114.24   14.0        200   \n",
       "4920         4    95375.00               23843.75    1.0        100   \n",
       "4921         6    65353.26               10892.21    3.0          0   \n",
       "4922         4    47454.12               11863.53    8.0        300   \n",
       "4923         8    17703.47                2212.93    0.0       5200   \n",
       "4924         1   199450.79              199450.79    0.0          0   \n",
       "4925         1   253817.46              253817.46    0.0          0   \n",
       "\n",
       "            MainCause  Elevation  Day0_Temperature  Day.1_Temperature  \\\n",
       "0         Heavy Rain      1359.5             66.20              71.60   \n",
       "1         Heavy Rain       565.9             68.59              64.27   \n",
       "2     Torrential Rain      892.5             77.79              75.11   \n",
       "3     Torrential Rain      592.8             89.60              80.60   \n",
       "4         Heavy Rain        73.1             53.29              68.65   \n",
       "5     Tropial Cyclone      581.8             68.00              78.80   \n",
       "6         Heavy Rain       187.5             53.01              51.62   \n",
       "7         Heavy Rain      1643.6             67.84              67.86   \n",
       "8                Snow      258.9             42.00              35.00   \n",
       "9          Heavy Rain      402.9             61.56              59.09   \n",
       "10               Snow      169.4             34.00              37.00   \n",
       "11               Snow     2090.6             37.00              51.00   \n",
       "12        Heavy Rain        99.9             83.19              77.25   \n",
       "13        Heavy Rain       191.6             38.00              43.00   \n",
       "14        Heavy Rain       253.9             72.09              67.08   \n",
       "15        Heavy Rain        16.6              0.00              68.00   \n",
       "16              Other      440.0             87.44              83.21   \n",
       "17               Snow      487.4             54.00              57.00   \n",
       "18        Heavy Rain      1725.9             48.00              54.00   \n",
       "19        Heavy Rain       417.6             74.88              71.69   \n",
       "20        Heavy Rain       418.9             87.80              91.40   \n",
       "21        Heavy Rain        23.7             47.50              46.13   \n",
       "22        Heavy Rain         8.0             85.08              90.57   \n",
       "23        Heavy Rain       366.3             66.00              73.00   \n",
       "24        Heavy Rain       220.3             71.00              82.00   \n",
       "25    Tropial Cyclone        0.5             91.00              92.57   \n",
       "26        Heavy Rain       571.8             71.76              74.12   \n",
       "27        Heavy Rain       205.4             89.28              91.35   \n",
       "28        Heavy Rain        13.9             88.25              92.17   \n",
       "29        Heavy Rain       225.7             55.85              59.72   \n",
       "...               ...        ...               ...                ...   \n",
       "4896       Heavy Rain      624.0             82.00              62.49   \n",
       "4897       Heavy Rain      345.8             30.00              36.00   \n",
       "4898       Heavy Rain     1143.5             71.00              82.76   \n",
       "4899  Torrential Rain      444.5             77.00             107.60   \n",
       "4900  Torrential Rain      322.1             96.00              83.10   \n",
       "4901       Heavy Rain     1602.5             66.00              65.64   \n",
       "4902       Heavy Rain      288.2             82.00              79.00   \n",
       "4903  Torrential Rain      370.7             79.00              92.71   \n",
       "4904       Heavy Rain      227.9             79.00              94.28   \n",
       "4905  Torrential Rain      537.4             77.00              64.40   \n",
       "4906  Torrential Rain     1453.2             86.00              84.00   \n",
       "4907       Heavy Rain     1491.6             50.00              46.00   \n",
       "4908            Other      650.0             30.00              34.00   \n",
       "4909       Heavy Rain      250.2             86.00              84.00   \n",
       "4910       Heavy Rain      362.5             98.00              69.80   \n",
       "4911        Dam break        3.6             60.00             104.29   \n",
       "4912    Tropial Storm       96.7             86.00              90.64   \n",
       "4913        Dam Break      212.0             52.00              50.00   \n",
       "4914       Heavy Rain      355.0             87.00              89.24   \n",
       "4915       Heavy Rain      580.4             99.00             100.13   \n",
       "4916       Heavy Rain      918.2             49.00              55.98   \n",
       "4917    Tropial Storm       99.4             74.00              73.00   \n",
       "4918    Tropial Storm      332.6             82.00              79.00   \n",
       "4919    Tropial Storm      727.9             84.00              90.00   \n",
       "4920  Torrential Rain      277.1             86.00              86.00   \n",
       "4921  Torrential Rain      573.3             78.00              75.13   \n",
       "4922  Torrential Rain     1260.7             69.00              77.72   \n",
       "4923       Heavy Rain       10.4             76.00              82.00   \n",
       "4924    Tropial Storm      754.5             77.00              73.00   \n",
       "4925    Tropial Storm      151.5             76.00              74.39   \n",
       "\n",
       "      Day.2_Temperature  ...  Day.3_Pressure  Day.4_Pressure  Day0_Condition  \\\n",
       "0                 84.20  ...           30.12           30.12          Cloudy   \n",
       "1                 76.82  ...           30.00           30.12          Cloudy   \n",
       "2                 69.42  ...           29.77           29.80          Cloudy   \n",
       "3                 75.20  ...           29.80           29.83          Cloudy   \n",
       "4                 70.30  ...           30.59           30.56           Clear   \n",
       "5                 78.80  ...           30.12           30.03            Rain   \n",
       "6                 51.01  ...           30.00           29.94            Rain   \n",
       "7                 57.47  ...           29.80           29.85          Cloudy   \n",
       "8                 22.00  ...           29.38           29.51          Cloudy   \n",
       "9                 69.94  ...           29.83           29.94          Cloudy   \n",
       "10                39.00  ...           29.70           29.59          Cloudy   \n",
       "11                54.00  ...           24.70           24.76           Clear   \n",
       "12                80.64  ...           30.00           29.97           Clear   \n",
       "13                55.00  ...           29.33           29.71          Cloudy   \n",
       "14                87.10  ...           29.80           29.91          Cloudy   \n",
       "15                61.00  ...           30.19           29.96          Cloudy   \n",
       "16                70.81  ...           29.59           29.59          Cloudy   \n",
       "17                59.00  ...           28.56           28.58          Cloudy   \n",
       "18                57.00  ...           24.58           24.49          Cloudy   \n",
       "19                83.14  ...           28.26           28.29           Clear   \n",
       "20                82.40  ...           29.68           29.71          Cloudy   \n",
       "21                49.96  ...           30.18           30.21          Cloudy   \n",
       "22                81.57  ...           29.68           29.68            Rain   \n",
       "23                74.00  ...           28.63           28.67          Cloudy   \n",
       "24                74.00  ...           29.25           29.19          Cloudy   \n",
       "25                86.56  ...           29.80           29.77          Cloudy   \n",
       "26                72.63  ...           29.68           29.68          Cloudy   \n",
       "27                80.51  ...           29.65           29.65          Cloudy   \n",
       "28                84.20  ...           29.62           29.62          Cloudy   \n",
       "29                60.98  ...           29.97           30.00          Cloudy   \n",
       "...                 ...  ...             ...             ...             ...   \n",
       "4896              85.00  ...           30.00           31.00            Rain   \n",
       "4897              65.00  ...           29.00           29.23          Cloudy   \n",
       "4898              70.00  ...           30.00           30.00            Rain   \n",
       "4899              84.00  ...           30.00           30.00         Thunder   \n",
       "4900             100.00  ...           30.00           30.00          Cloudy   \n",
       "4901              69.00  ...           30.00           30.00          Cloudy   \n",
       "4902              81.00  ...           29.69           29.75           Clear   \n",
       "4903              86.00  ...           30.00           30.00          Cloudy   \n",
       "4904              77.00  ...           30.00           30.00          Cloudy   \n",
       "4905              77.00  ...           31.00           31.00          Cloudy   \n",
       "4906              91.00  ...           29.80           29.74          Cloudy   \n",
       "4907              52.00  ...           25.05           25.08          Cloudy   \n",
       "4908              32.00  ...           28.04           27.95           Clear   \n",
       "4909              91.00  ...           29.80           29.74          Cloudy   \n",
       "4910             100.00  ...           30.00           30.00          Cloudy   \n",
       "4911              66.00  ...           30.00           30.00          Cloudy   \n",
       "4912              84.00  ...           30.00           30.00          Cloudy   \n",
       "4913              50.00  ...           29.15           29.47      Heavy Rain   \n",
       "4914              82.00  ...           30.00           30.00          Cloudy   \n",
       "4915              99.00  ...           30.00           30.00           Clear   \n",
       "4916              50.00  ...           30.00           30.00            Rain   \n",
       "4917              74.00  ...           29.85           30.00            Rain   \n",
       "4918              79.00  ...           30.00           31.00          Cloudy   \n",
       "4919              81.00  ...           29.78           29.78           Clear   \n",
       "4920              86.00  ...           29.66           29.63          Cloudy   \n",
       "4921              78.00  ...           30.00           30.00            Rain   \n",
       "4922              70.00  ...           30.00           30.00            Rain   \n",
       "4923              80.00  ...           29.81           29.75            Rain   \n",
       "4924              86.00  ...           27.78           27.51          Cloudy   \n",
       "4925              73.00  ...           30.00           30.00            Rain   \n",
       "\n",
       "      Day.1_Condition  Day.2_Condition  Day.3_Condition  Day.4_Condition  \\\n",
       "0              Cloudy           Cloudy           Cloudy           Cloudy   \n",
       "1              Cloudy            Clear           Cloudy           Cloudy   \n",
       "2                Rain           Cloudy             Rain           Cloudy   \n",
       "3              Cloudy           Cloudy           Cloudy           Cloudy   \n",
       "4              Cloudy           Cloudy            Clear            Clear   \n",
       "5              Cloudy           Cloudy             Rain             Rain   \n",
       "6                Rain             Rain             Rain             Rain   \n",
       "7                Rain           Cloudy           Cloudy           Cloudy   \n",
       "8              Cloudy           Cloudy           Cloudy            Clear   \n",
       "9              Cloudy           Cloudy            Clear           Cloudy   \n",
       "10              Clear           Cloudy            Clear           Cloudy   \n",
       "11             Cloudy           Cloudy           Cloudy           Cloudy   \n",
       "12             Cloudy            Clear           Cloudy            Clear   \n",
       "13             Cloudy           Cloudy           Cloudy            Clear   \n",
       "14              Clear            Clear           Cloudy            Clear   \n",
       "15             Cloudy           Cloudy           Cloudy           Cloudy   \n",
       "16             Cloudy           Cloudy            Clear           Cloudy   \n",
       "17              Clear           Cloudy           Cloudy           Cloudy   \n",
       "18             Cloudy           Cloudy           Cloudy            Clear   \n",
       "19              Clear            Clear             Rain             Rain   \n",
       "20             Cloudy           Cloudy           Cloudy           Cloudy   \n",
       "21             Cloudy           Cloudy            Clear           Cloudy   \n",
       "22               Rain             Rain             Rain             Rain   \n",
       "23             Cloudy           Cloudy           Cloudy           Cloudy   \n",
       "24              Clear            Clear           Cloudy           Cloudy   \n",
       "25               Rain           Cloudy             Rain           Cloudy   \n",
       "26               Rain             Rain             Rain           Cloudy   \n",
       "27             Cloudy           Cloudy           Cloudy             Rain   \n",
       "28               Rain           Cloudy           Cloudy           Cloudy   \n",
       "29             Cloudy             Rain           Cloudy           Cloudy   \n",
       "...               ...              ...              ...              ...   \n",
       "4896             Rain             Rain             Rain             Rain   \n",
       "4897           Cloudy             Rain           Cloudy           Cloudy   \n",
       "4898           Cloudy             Rain             Rain             Rain   \n",
       "4899           Cloudy          Thunder           Cloudy           Cloudy   \n",
       "4900           Cloudy           Cloudy           Cloudy           Cloudy   \n",
       "4901           Cloudy             Rain           Cloudy           Cloudy   \n",
       "4902            Clear            Clear           Cloudy           Cloudy   \n",
       "4903           Cloudy           Cloudy           Cloudy             Rain   \n",
       "4904           Cloudy             Rain             Rain           Cloudy   \n",
       "4905           Cloudy             Rain             Rain             Rain   \n",
       "4906           Cloudy           Cloudy            Clear            Clear   \n",
       "4907           Cloudy           Cloudy            Clear            Clear   \n",
       "4908           Cloudy            Clear           Cloudy            Clear   \n",
       "4909           Cloudy           Cloudy            Clear            Clear   \n",
       "4910          Thunder           Cloudy            Clear           Cloudy   \n",
       "4911            Clear           Cloudy           Cloudy           Cloudy   \n",
       "4912           Cloudy           Cloudy           Cloudy             Rain   \n",
       "4913            Clear           Cloudy           Cloudy           Cloudy   \n",
       "4914           Cloudy             Rain           Cloudy             Rain   \n",
       "4915            Clear           Cloudy           Cloudy           Cloudy   \n",
       "4916           Cloudy             Rain             Rain             Rain   \n",
       "4917           Cloudy           Cloudy           Cloudy           Cloudy   \n",
       "4918           Cloudy          Thunder           Cloudy            Clear   \n",
       "4919            Clear            Clear           Cloudy            Clear   \n",
       "4920           Cloudy           Cloudy            Clear            Clear   \n",
       "4921             Rain           Cloudy             Rain             Rain   \n",
       "4922             Rain             Rain             Rain             Rain   \n",
       "4923           Cloudy           Cloudy           Cloudy           Cloudy   \n",
       "4924          Thunder            Clear            Clear            Clear   \n",
       "4925           Cloudy             Rain             Rain             Rain   \n",
       "\n",
       "      Log_Dead    ID     Severity  \n",
       "0     3.258097     1     Low_Risk  \n",
       "1     5.433722     2    High_Risk  \n",
       "2     3.761200     3     Low_Risk  \n",
       "3     3.044522     4     Low_Risk  \n",
       "4     2.944439     5    High_Risk  \n",
       "5     0.693147     6     Low_Risk  \n",
       "6     1.386294     7     Low_Risk  \n",
       "7     2.302585     8     Low_Risk  \n",
       "8     1.945910     9    High_Risk  \n",
       "9     0.693147    10     Low_Risk  \n",
       "10    1.386294    11    High_Risk  \n",
       "11    0.000000    12     Low_Risk  \n",
       "12    0.000000    13     Low_Risk  \n",
       "13    0.000000    14     Low_Risk  \n",
       "14    3.465736    15    High_Risk  \n",
       "15    0.000000    16     Low_Risk  \n",
       "16    0.000000    17     Low_Risk  \n",
       "17    0.000000    18    High_Risk  \n",
       "18    0.693147    19     Low_Risk  \n",
       "19    0.693147    20     Low_Risk  \n",
       "20    4.158883    21    High_Risk  \n",
       "21    3.218876    22    High_Risk  \n",
       "22    1.945910    23    High_Risk  \n",
       "23    1.791759    24     Low_Risk  \n",
       "24    0.000000    25    High_Risk  \n",
       "25    4.584967    26     Low_Risk  \n",
       "26    4.553877    27     Low_Risk  \n",
       "27    5.616771    28    High_Risk  \n",
       "28    0.693147    29     Low_Risk  \n",
       "29    1.098612    30     Low_Risk  \n",
       "...        ...   ...          ...  \n",
       "4896  0.000000  4898  Medium_Risk  \n",
       "4897  2.079442  4899  Medium_Risk  \n",
       "4898  0.693147  4900  Medium_Risk  \n",
       "4899  2.079442  4901    High_Risk  \n",
       "4900  0.000000  4902  Medium_Risk  \n",
       "4901  2.197225  4903  Medium_Risk  \n",
       "4902  0.000000  4904     Low_Risk  \n",
       "4903  1.098612  4905     Low_Risk  \n",
       "4904  2.397895  4906  Medium_Risk  \n",
       "4905  0.000000  4907     Low_Risk  \n",
       "4906  2.302585  4908  Medium_Risk  \n",
       "4907  1.945910  4909  Medium_Risk  \n",
       "4908  0.000000  4910     Low_Risk  \n",
       "4909  2.302585  4911  Medium_Risk  \n",
       "4910  0.000000  4912     Low_Risk  \n",
       "4911  1.386294  4913    High_Risk  \n",
       "4912  0.693147  4914  Medium_Risk  \n",
       "4913  0.000000  4915    High_Risk  \n",
       "4914  0.000000  4916  Medium_Risk  \n",
       "4915  0.000000  4917     Low_Risk  \n",
       "4916  0.693147  4918     Low_Risk  \n",
       "4917  3.401197  4919    High_Risk  \n",
       "4918  0.000000  4921    High_Risk  \n",
       "4919  2.639057  4922     Low_Risk  \n",
       "4920  0.000000  4923  Medium_Risk  \n",
       "4921  1.098612  4924     Low_Risk  \n",
       "4922  2.079442  4925  Medium_Risk  \n",
       "4923  0.000000  4926  Medium_Risk  \n",
       "4924  0.000000  4927  Medium_Risk  \n",
       "4925  0.000000  4928  Medium_Risk  \n",
       "\n",
       "[4926 rows x 50 columns]"
      ]
     },
     "execution_count": 54,
     "metadata": {},
     "output_type": "execute_result"
    }
   ],
   "source": [
    "#read Standardised_df_Significance data\n",
    "#df = pd.read_csv(\"D:\\\\Research Project\\\\Datasets\\\\Flood intensity\\\\data url\\\\Final Data\\\\Boruta_Feature_Selection.csv\", encoding= 'unicode_escape')\n",
    "df = pd.read_csv(\"D:\\\\Research Project\\\\Datasets\\\\Flood intensity\\\\data url\\\\Final Data\\\\Classification\\\\Boruta_Feature_Selection_Classification.csv\", encoding= 'unicode_escape')\n",
    "df"
   ]
  },
  {
   "cell_type": "code",
   "execution_count": 55,
   "metadata": {},
   "outputs": [
    {
     "data": {
      "text/plain": [
       "Duration                   int64\n",
       "Area                     float64\n",
       "Area_Affected_per_day    float64\n",
       "Dead                     float64\n",
       "Displaced                  int64\n",
       "MainCause                 object\n",
       "Elevation                float64\n",
       "Day0_Temperature         float64\n",
       "Day.1_Temperature        float64\n",
       "Day.2_Temperature        float64\n",
       "Day.3_Temperature        float64\n",
       "Day.4_Temperature        float64\n",
       "Day0_Dew_Point             int64\n",
       "Day.1_Dew_Point            int64\n",
       "Day.2_Dew_Point            int64\n",
       "Day.3_Dew_Point            int64\n",
       "Day.4_Dew_Point            int64\n",
       "Day0_Wind                 object\n",
       "Day.1_Wind                object\n",
       "Day.2_Wind                object\n",
       "Day.3_Wind                object\n",
       "Day.4_Wind                object\n",
       "Day0_Humidity              int64\n",
       "Day.1_Humidity             int64\n",
       "Day.2_Humidity             int64\n",
       "Day.3_Humidity             int64\n",
       "Day.4_Humidity             int64\n",
       "Day0_Wind_Speed          float64\n",
       "Day.1_Wind_Speed         float64\n",
       "Day.2_Wind_Speed         float64\n",
       "Day.3_Wind_Speed         float64\n",
       "Day.4_Wind_Speed         float64\n",
       "Day0_Wind_Gust             int64\n",
       "Day.1_Wind_Gust            int64\n",
       "Day.2_Wind_Gust            int64\n",
       "Day.3_Wind_Gust            int64\n",
       "Day.4_Wind_Gust            int64\n",
       "Day0_Pressure            float64\n",
       "Day.1_Pressure           float64\n",
       "Day.2_Pressure           float64\n",
       "Day.3_Pressure           float64\n",
       "Day.4_Pressure           float64\n",
       "Day0_Condition            object\n",
       "Day.1_Condition           object\n",
       "Day.2_Condition           object\n",
       "Day.3_Condition           object\n",
       "Day.4_Condition           object\n",
       "Log_Dead                 float64\n",
       "ID                         int64\n",
       "Severity                  object\n",
       "dtype: object"
      ]
     },
     "execution_count": 55,
     "metadata": {},
     "output_type": "execute_result"
    }
   ],
   "source": [
    "df.dtypes"
   ]
  },
  {
   "cell_type": "markdown",
   "metadata": {},
   "source": [
    "# Check for normality curve"
   ]
  },
  {
   "cell_type": "code",
   "execution_count": 56,
   "metadata": {},
   "outputs": [
    {
     "data": {
      "text/plain": [
       "<matplotlib.axes._subplots.AxesSubplot at 0x157f18c6ac8>"
      ]
     },
     "execution_count": 56,
     "metadata": {},
     "output_type": "execute_result"
    },
    {
     "data": {
      "image/png": "[encoded data removed]",
      "text/plain": [
       "<Figure size 1080x720 with 1 Axes>"
      ]
     },
     "metadata": {},
     "output_type": "display_data"
    }
   ],
   "source": [
    "plt.figure(figsize=(15,10))\n",
    "plt.tight_layout()\n",
    "sns.set_style('darkgrid')\n",
    "sns.distplot(df['Area_Affected_per_day'])"
   ]
  },
  {
   "cell_type": "code",
   "execution_count": 57,
   "metadata": {},
   "outputs": [
    {
     "data": {
      "text/plain": [
       "[]"
      ]
     },
     "execution_count": 57,
     "metadata": {},
     "output_type": "execute_result"
    },
    {
     "data": {
      "image/png": "[encoded data removed]",
      "text/plain": [
       "<Figure size 432x288 with 1 Axes>"
      ]
     },
     "metadata": {},
     "output_type": "display_data"
    }
   ],
   "source": [
    "ax = sns.distplot(df['Area_Affected_per_day'],fit=scipy.stats.norm, kde=False, hist=True, color='r')\n",
    "ax.plot()"
   ]
  },
  {
   "cell_type": "code",
   "execution_count": 58,
   "metadata": {},
   "outputs": [
    {
     "data": {
      "text/plain": [
       "0       10.05\n",
       "1       10.54\n",
       "2        9.46\n",
       "3        7.08\n",
       "4        9.21\n",
       "5        4.47\n",
       "6        8.97\n",
       "7        9.87\n",
       "8       10.31\n",
       "9       10.05\n",
       "10       8.57\n",
       "11      10.19\n",
       "12      11.86\n",
       "13       9.73\n",
       "14      11.79\n",
       "15       9.75\n",
       "16      10.53\n",
       "17       8.54\n",
       "18      11.66\n",
       "19       7.26\n",
       "20      10.64\n",
       "21      10.58\n",
       "22       6.15\n",
       "23      11.33\n",
       "24       9.20\n",
       "25       6.88\n",
       "26      11.06\n",
       "27      10.10\n",
       "28       8.77\n",
       "29       7.56\n",
       "        ...  \n",
       "4896    10.32\n",
       "4897     9.26\n",
       "4898    11.03\n",
       "4899     7.63\n",
       "4900     8.71\n",
       "4901     8.69\n",
       "4902     9.49\n",
       "4903     8.25\n",
       "4904     9.47\n",
       "4905     7.64\n",
       "4906     9.16\n",
       "4907    10.50\n",
       "4908    11.35\n",
       "4909    10.89\n",
       "4910    10.02\n",
       "4911     9.04\n",
       "4912     9.65\n",
       "4913     8.04\n",
       "4914     9.96\n",
       "4915    10.73\n",
       "4916     9.02\n",
       "4917     8.15\n",
       "4918    12.05\n",
       "4919     8.72\n",
       "4920    10.08\n",
       "4921     9.30\n",
       "4922     9.38\n",
       "4923     7.70\n",
       "4924    12.20\n",
       "4925    12.44\n",
       "Name: Log_Area_Affected_per_day, Length: 4926, dtype: float64"
      ]
     },
     "execution_count": 58,
     "metadata": {},
     "output_type": "execute_result"
    }
   ],
   "source": [
    "df[\"Log_Area_Affected_per_day\"] = np.log(1+df['Area_Affected_per_day'])\n",
    "df[\"Log_Area_Affected_per_day\"] = round(df[\"Log_Area_Affected_per_day\"],2)\n",
    "df[\"Log_Area_Affected_per_day\"]"
   ]
  },
  {
   "cell_type": "code",
   "execution_count": 59,
   "metadata": {},
   "outputs": [
    {
     "data": {
      "text/plain": [
       "[]"
      ]
     },
     "execution_count": 59,
     "metadata": {},
     "output_type": "execute_result"
    },
    {
     "data": {
      "image/png": "[encoded data removed]",
      "text/plain": [
       "<Figure size 432x288 with 1 Axes>"
      ]
     },
     "metadata": {},
     "output_type": "display_data"
    }
   ],
   "source": [
    "ax = sns.distplot(df['Log_Area_Affected_per_day'],fit=scipy.stats.norm, kde=False, hist=True, color='r')\n",
    "ax.plot()"
   ]
  },
  {
   "cell_type": "code",
   "execution_count": 60,
   "metadata": {},
   "outputs": [
    {
     "data": {
      "text/plain": [
       "[]"
      ]
     },
     "execution_count": 60,
     "metadata": {},
     "output_type": "execute_result"
    },
    {
     "data": {
      "image/png": "[encoded data removed]",
      "text/plain": [
       "<Figure size 432x288 with 1 Axes>"
      ]
     },
     "metadata": {},
     "output_type": "display_data"
    }
   ],
   "source": [
    "ax = sns.distplot(df['Duration'],fit=scipy.stats.norm, kde=False, hist=True, color='r')\n",
    "ax.plot()"
   ]
  },
  {
   "cell_type": "code",
   "execution_count": 61,
   "metadata": {},
   "outputs": [
    {
     "data": {
      "text/plain": [
       "0       1.61\n",
       "1       2.94\n",
       "2       0.69\n",
       "3       2.71\n",
       "4       1.10\n",
       "5       2.56\n",
       "6       0.69\n",
       "7       1.61\n",
       "8       2.08\n",
       "9       1.39\n",
       "10      1.79\n",
       "11      0.69\n",
       "12      0.69\n",
       "13      0.69\n",
       "14      2.77\n",
       "15      0.69\n",
       "16      2.20\n",
       "17      0.69\n",
       "18      0.69\n",
       "19      0.69\n",
       "20      2.48\n",
       "21      1.10\n",
       "22      3.00\n",
       "23      0.69\n",
       "24      0.69\n",
       "25      2.20\n",
       "26      1.61\n",
       "27      2.56\n",
       "28      0.69\n",
       "29      0.69\n",
       "        ... \n",
       "4896    1.79\n",
       "4897    2.56\n",
       "4898    1.39\n",
       "4899    1.79\n",
       "4900    2.08\n",
       "4901    2.08\n",
       "4902    1.61\n",
       "4903    1.61\n",
       "4904    1.95\n",
       "4905    1.61\n",
       "4906    1.10\n",
       "4907    1.95\n",
       "4908    1.10\n",
       "4909    2.20\n",
       "4910    1.95\n",
       "4911    2.40\n",
       "4912    1.39\n",
       "4913    1.10\n",
       "4914    1.61\n",
       "4915    1.10\n",
       "4916    1.39\n",
       "4917    2.48\n",
       "4918    0.69\n",
       "4919    2.20\n",
       "4920    1.61\n",
       "4921    1.95\n",
       "4922    1.61\n",
       "4923    2.20\n",
       "4924    0.69\n",
       "4925    0.69\n",
       "Name: Log_Duration, Length: 4926, dtype: float64"
      ]
     },
     "execution_count": 61,
     "metadata": {},
     "output_type": "execute_result"
    }
   ],
   "source": [
    "df[\"Log_Duration\"] = np.log(1+df['Duration'])\n",
    "df[\"Log_Duration\"] = round(df[\"Log_Duration\"],2)\n",
    "df[\"Log_Duration\"]"
   ]
  },
  {
   "cell_type": "code",
   "execution_count": 62,
   "metadata": {},
   "outputs": [
    {
     "data": {
      "text/plain": [
       "[]"
      ]
     },
     "execution_count": 62,
     "metadata": {},
     "output_type": "execute_result"
    },
    {
     "data": {
      "image/png": "[encoded data removed]",
      "text/plain": [
       "<Figure size 432x288 with 1 Axes>"
      ]
     },
     "metadata": {},
     "output_type": "display_data"
    }
   ],
   "source": [
    "ax = sns.distplot(df['Log_Duration'],fit=scipy.stats.norm, kde=False, hist=True, color='r')\n",
    "ax.plot()"
   ]
  },
  {
   "cell_type": "code",
   "execution_count": 63,
   "metadata": {},
   "outputs": [
    {
     "data": {
      "text/plain": [
       "[]"
      ]
     },
     "execution_count": 63,
     "metadata": {},
     "output_type": "execute_result"
    },
    {
     "data": {
      "image/png": "[encoded data removed]",
      "text/plain": [
       "<Figure size 432x288 with 1 Axes>"
      ]
     },
     "metadata": {},
     "output_type": "display_data"
    }
   ],
   "source": [
    "np.sqrt\n",
    "df[\"Sqrt_Log_Duration\"] = np.sqrt(1+df['Log_Duration'])\n",
    "ax = sns.distplot(df['Sqrt_Log_Duration'],fit=scipy.stats.norm, kde=False, hist=True, color='r')\n",
    "ax.plot()"
   ]
  },
  {
   "cell_type": "code",
   "execution_count": 64,
   "metadata": {},
   "outputs": [
    {
     "data": {
      "text/plain": [
       "[]"
      ]
     },
     "execution_count": 64,
     "metadata": {},
     "output_type": "execute_result"
    },
    {
     "data": {
      "image/png": "[encoded data removed]",
      "text/plain": [
       "<Figure size 432x288 with 1 Axes>"
      ]
     },
     "metadata": {},
     "output_type": "display_data"
    }
   ],
   "source": [
    "ax = sns.distplot(df['Dead'],fit=scipy.stats.norm, kde=False, hist=True, color='r')\n",
    "ax.plot()"
   ]
  },
  {
   "cell_type": "code",
   "execution_count": 65,
   "metadata": {},
   "outputs": [
    {
     "data": {
      "text/plain": [
       "[]"
      ]
     },
     "execution_count": 65,
     "metadata": {},
     "output_type": "execute_result"
    },
    {
     "data": {
      "image/png": "[encoded data removed]",
      "text/plain": [
       "<Figure size 432x288 with 1 Axes>"
      ]
     },
     "metadata": {},
     "output_type": "display_data"
    }
   ],
   "source": [
    "df[\"Log_Dead\"] = (np.log(1+df['Dead']))\n",
    "df[\"Log_Dead\"] = round(df[\"Log_Dead\"],2)\n",
    "ax = sns.distplot(df['Log_Dead'],fit=scipy.stats.norm, kde=False, hist=True, color='r')\n",
    "ax.plot()"
   ]
  },
  {
   "cell_type": "code",
   "execution_count": 66,
   "metadata": {},
   "outputs": [
    {
     "data": {
      "text/plain": [
       "[]"
      ]
     },
     "execution_count": 66,
     "metadata": {},
     "output_type": "execute_result"
    },
    {
     "data": {
      "image/png": "[encoded data removed]",
      "text/plain": [
       "<Figure size 432x288 with 1 Axes>"
      ]
     },
     "metadata": {},
     "output_type": "display_data"
    }
   ],
   "source": [
    "ax = sns.distplot(df['Displaced'],fit=scipy.stats.norm, kde=False, hist=True, color='r')\n",
    "ax.plot()"
   ]
  },
  {
   "cell_type": "code",
   "execution_count": 67,
   "metadata": {},
   "outputs": [
    {
     "data": {
      "text/plain": [
       "[]"
      ]
     },
     "execution_count": 67,
     "metadata": {},
     "output_type": "execute_result"
    },
    {
     "data": {
      "image/png": "[encoded data removed]",
      "text/plain": [
       "<Figure size 432x288 with 1 Axes>"
      ]
     },
     "metadata": {},
     "output_type": "display_data"
    }
   ],
   "source": [
    "df[\"Log_Displaced\"] = (np.log(1+df['Displaced']))\n",
    "df[\"Log_Displaced\"] = round(df[\"Log_Displaced\"],2)\n",
    "ax = sns.distplot(df['Log_Displaced'],fit=scipy.stats.norm, kde=False, hist=True, color='r')\n",
    "ax.plot()"
   ]
  },
  {
   "cell_type": "code",
   "execution_count": 68,
   "metadata": {},
   "outputs": [
    {
     "data": {
      "text/plain": [
       "[]"
      ]
     },
     "execution_count": 68,
     "metadata": {},
     "output_type": "execute_result"
    },
    {
     "data": {
      "image/png": "[encoded data removed]",
      "text/plain": [
       "<Figure size 432x288 with 1 Axes>"
      ]
     },
     "metadata": {},
     "output_type": "display_data"
    }
   ],
   "source": [
    "ax = sns.distplot(df['Area'],fit=scipy.stats.norm, kde=False, hist=True, color='r')\n",
    "ax.plot()"
   ]
  },
  {
   "cell_type": "code",
   "execution_count": 69,
   "metadata": {},
   "outputs": [
    {
     "data": {
      "text/plain": [
       "[]"
      ]
     },
     "execution_count": 69,
     "metadata": {},
     "output_type": "execute_result"
    },
    {
     "data": {
      "image/png": "[encoded data removed]",
      "text/plain": [
       "<Figure size 432x288 with 1 Axes>"
      ]
     },
     "metadata": {},
     "output_type": "display_data"
    }
   ],
   "source": [
    "df[\"Log_Area\"] = (np.log(1+df['Area']))\n",
    "df[\"Log_Area\"] = round(df[\"Log_Area\"],2)\n",
    "ax = sns.distplot(df['Log_Area'],fit=scipy.stats.norm, kde=False, hist=True, color='r')\n",
    "ax.plot()"
   ]
  },
  {
   "cell_type": "code",
   "execution_count": 70,
   "metadata": {},
   "outputs": [
    {
     "data": {
      "text/plain": [
       "[]"
      ]
     },
     "execution_count": 70,
     "metadata": {},
     "output_type": "execute_result"
    },
    {
     "data": {
      "image/png": "[encoded data removed]",
      "text/plain": [
       "<Figure size 432x288 with 1 Axes>"
      ]
     },
     "metadata": {},
     "output_type": "display_data"
    }
   ],
   "source": [
    "ax = sns.distplot(df['Day0_Temperature'],fit=scipy.stats.norm, kde=False, hist=True, color='r')\n",
    "ax.plot()"
   ]
  },
  {
   "cell_type": "code",
   "execution_count": 71,
   "metadata": {},
   "outputs": [
    {
     "name": "stdout",
     "output_type": "stream",
     "text": [
      "Missing values in Log_Day0_Temperature : 0\n"
     ]
    },
    {
     "name": "stderr",
     "output_type": "stream",
     "text": [
      "C:\\Users\\DELL\\Anaconda3\\lib\\site-packages\\ipykernel_launcher.py:1: RuntimeWarning: invalid value encountered in log\n",
      "  \"\"\"Entry point for launching an IPython kernel.\n"
     ]
    },
    {
     "data": {
      "text/plain": [
       "[]"
      ]
     },
     "execution_count": 71,
     "metadata": {},
     "output_type": "execute_result"
    },
    {
     "data": {
      "image/png": "[encoded data removed]",
      "text/plain": [
       "<Figure size 432x288 with 1 Axes>"
      ]
     },
     "metadata": {},
     "output_type": "display_data"
    }
   ],
   "source": [
    "df[\"Log_Day0_Temperature\"] = (np.log(1+df['Day0_Temperature']))\n",
    "df[\"Log_Day0_Temperature\"] = round(df[\"Log_Day0_Temperature\"],2)\n",
    "df['Log_Day0_Temperature'] = df['Log_Day0_Temperature'].replace({np.NaN:0})\n",
    "print('Missing values in Log_Day0_Temperature : %d' %sum(df['Log_Day0_Temperature'].isnull()))\n",
    "ax = sns.distplot(df['Log_Day0_Temperature'],fit=scipy.stats.norm, kde=False, hist=True, color='r')\n",
    "ax.plot()"
   ]
  },
  {
   "cell_type": "code",
   "execution_count": 72,
   "metadata": {},
   "outputs": [
    {
     "data": {
      "text/plain": [
       "[]"
      ]
     },
     "execution_count": 72,
     "metadata": {},
     "output_type": "execute_result"
    },
    {
     "data": {
      "image/png": "[encoded data removed]",
      "text/plain": [
       "<Figure size 432x288 with 1 Axes>"
      ]
     },
     "metadata": {},
     "output_type": "display_data"
    }
   ],
   "source": [
    "ax = sns.distplot(df['Day.1_Temperature'],fit=scipy.stats.norm, kde=False, hist=True, color='r')\n",
    "ax.plot()"
   ]
  },
  {
   "cell_type": "code",
   "execution_count": 73,
   "metadata": {},
   "outputs": [
    {
     "name": "stdout",
     "output_type": "stream",
     "text": [
      "Missing values in Log_Day.1_Temperature : 0\n"
     ]
    },
    {
     "name": "stderr",
     "output_type": "stream",
     "text": [
      "C:\\Users\\DELL\\Anaconda3\\lib\\site-packages\\ipykernel_launcher.py:1: RuntimeWarning: invalid value encountered in log\n",
      "  \"\"\"Entry point for launching an IPython kernel.\n"
     ]
    },
    {
     "data": {
      "text/plain": [
       "[]"
      ]
     },
     "execution_count": 73,
     "metadata": {},
     "output_type": "execute_result"
    },
    {
     "data": {
      "image/png": "[encoded data removed]",
      "text/plain": [
       "<Figure size 432x288 with 1 Axes>"
      ]
     },
     "metadata": {},
     "output_type": "display_data"
    }
   ],
   "source": [
    "df[\"Log_Day.1_Temperature\"] = (np.log(1+df['Day.1_Temperature']))\n",
    "df[\"Log_Day.1_Temperature\"] = round(df[\"Log_Day.1_Temperature\"],2)\n",
    "df['Log_Day.1_Temperature'] = df['Log_Day.1_Temperature'].replace({np.NaN:0})\n",
    "print('Missing values in Log_Day.1_Temperature : %d' %sum(df['Log_Day.1_Temperature'].isnull()))\n",
    "ax = sns.distplot(df['Log_Day.1_Temperature'],fit=scipy.stats.norm, kde=False, hist=True, color='r')\n",
    "ax.plot()"
   ]
  },
  {
   "cell_type": "code",
   "execution_count": 74,
   "metadata": {},
   "outputs": [
    {
     "data": {
      "text/plain": [
       "[]"
      ]
     },
     "execution_count": 74,
     "metadata": {},
     "output_type": "execute_result"
    },
    {
     "data": {
      "image/png": "[encoded data removed]",
      "text/plain": [
       "<Figure size 432x288 with 1 Axes>"
      ]
     },
     "metadata": {},
     "output_type": "display_data"
    }
   ],
   "source": [
    "ax = sns.distplot(df['Day.2_Temperature'],fit=scipy.stats.norm, kde=False, hist=True, color='r')\n",
    "ax.plot()"
   ]
  },
  {
   "cell_type": "code",
   "execution_count": 75,
   "metadata": {},
   "outputs": [
    {
     "name": "stdout",
     "output_type": "stream",
     "text": [
      "Missing values in Log_Day.2_Temperature : 0\n"
     ]
    },
    {
     "name": "stderr",
     "output_type": "stream",
     "text": [
      "C:\\Users\\DELL\\Anaconda3\\lib\\site-packages\\ipykernel_launcher.py:1: RuntimeWarning: invalid value encountered in log\n",
      "  \"\"\"Entry point for launching an IPython kernel.\n"
     ]
    },
    {
     "data": {
      "text/plain": [
       "[]"
      ]
     },
     "execution_count": 75,
     "metadata": {},
     "output_type": "execute_result"
    },
    {
     "data": {
      "image/png": "[encoded data removed]",
      "text/plain": [
       "<Figure size 432x288 with 1 Axes>"
      ]
     },
     "metadata": {},
     "output_type": "display_data"
    }
   ],
   "source": [
    "df[\"Log_Day.2_Temperature\"] = (np.log(1+df['Day.2_Temperature']))\n",
    "df[\"Log_Day.2_Temperature\"] = round(df[\"Log_Day.2_Temperature\"],2)\n",
    "df['Log_Day.2_Temperature'] = df['Log_Day.2_Temperature'].replace({np.NaN:0})\n",
    "print('Missing values in Log_Day.2_Temperature : %d' %sum(df['Log_Day.2_Temperature'].isnull()))\n",
    "ax = sns.distplot(df['Log_Day.2_Temperature'],fit=scipy.stats.norm, kde=False, hist=True, color='r')\n",
    "ax.plot()"
   ]
  },
  {
   "cell_type": "code",
   "execution_count": 76,
   "metadata": {},
   "outputs": [
    {
     "data": {
      "text/plain": [
       "[]"
      ]
     },
     "execution_count": 76,
     "metadata": {},
     "output_type": "execute_result"
    },
    {
     "data": {
      "image/png": "[encoded data removed]",
      "text/plain": [
       "<Figure size 432x288 with 1 Axes>"
      ]
     },
     "metadata": {},
     "output_type": "display_data"
    }
   ],
   "source": [
    "ax = sns.distplot(df['Day0_Dew_Point'],fit=scipy.stats.norm, kde=False, hist=True, color='r')\n",
    "ax.plot()"
   ]
  },
  {
   "cell_type": "code",
   "execution_count": 77,
   "metadata": {},
   "outputs": [
    {
     "name": "stdout",
     "output_type": "stream",
     "text": [
      "Missing values in Log_Day0_Dew_Point : 0\n"
     ]
    },
    {
     "name": "stderr",
     "output_type": "stream",
     "text": [
      "C:\\Users\\DELL\\Anaconda3\\lib\\site-packages\\ipykernel_launcher.py:1: RuntimeWarning: invalid value encountered in log\n",
      "  \"\"\"Entry point for launching an IPython kernel.\n"
     ]
    },
    {
     "data": {
      "text/plain": [
       "[]"
      ]
     },
     "execution_count": 77,
     "metadata": {},
     "output_type": "execute_result"
    },
    {
     "data": {
      "image/png": "[encoded data removed]",
      "text/plain": [
       "<Figure size 432x288 with 1 Axes>"
      ]
     },
     "metadata": {},
     "output_type": "display_data"
    }
   ],
   "source": [
    "df[\"Log_Day0_Dew_Point\"] = (np.log(1+df['Day0_Dew_Point']))\n",
    "df[\"Log_Day0_Dew_Point\"] = round(df[\"Log_Day0_Dew_Point\"],2)\n",
    "df['Log_Day0_Dew_Point'] = df['Log_Day0_Dew_Point'].replace({np.NaN:0})\n",
    "print('Missing values in Log_Day0_Dew_Point : %d' %sum(df['Log_Day0_Dew_Point'].isnull()))\n",
    "ax = sns.distplot(df['Log_Day0_Dew_Point'],fit=scipy.stats.norm, kde=False, hist=True, color='r')\n",
    "ax.plot()"
   ]
  },
  {
   "cell_type": "code",
   "execution_count": 78,
   "metadata": {},
   "outputs": [
    {
     "data": {
      "text/plain": [
       "[]"
      ]
     },
     "execution_count": 78,
     "metadata": {},
     "output_type": "execute_result"
    },
    {
     "data": {
      "image/png": "[encoded data removed]",
      "text/plain": [
       "<Figure size 432x288 with 1 Axes>"
      ]
     },
     "metadata": {},
     "output_type": "display_data"
    }
   ],
   "source": [
    "ax = sns.distplot(df['Day.1_Dew_Point'],fit=scipy.stats.norm, kde=False, hist=True, color='r')\n",
    "ax.plot()"
   ]
  },
  {
   "cell_type": "code",
   "execution_count": 79,
   "metadata": {},
   "outputs": [
    {
     "name": "stdout",
     "output_type": "stream",
     "text": [
      "Missing values in Log_Day.1_Dew_Point : 0\n"
     ]
    },
    {
     "name": "stderr",
     "output_type": "stream",
     "text": [
      "C:\\Users\\DELL\\Anaconda3\\lib\\site-packages\\ipykernel_launcher.py:1: RuntimeWarning: invalid value encountered in log\n",
      "  \"\"\"Entry point for launching an IPython kernel.\n"
     ]
    },
    {
     "data": {
      "text/plain": [
       "[]"
      ]
     },
     "execution_count": 79,
     "metadata": {},
     "output_type": "execute_result"
    },
    {
     "data": {
      "image/png": "[encoded data removed]",
      "text/plain": [
       "<Figure size 432x288 with 1 Axes>"
      ]
     },
     "metadata": {},
     "output_type": "display_data"
    }
   ],
   "source": [
    "df[\"Log_Day.1_Dew_Point\"] = (np.log(1+df['Day.1_Dew_Point']))\n",
    "df[\"Log_Day.1_Dew_Point\"] = round(df[\"Log_Day.1_Dew_Point\"],2)\n",
    "df['Log_Day.1_Dew_Point'] = df['Log_Day.1_Dew_Point'].replace({np.NaN:0})\n",
    "print('Missing values in Log_Day.1_Dew_Point : %d' %sum(df['Log_Day.1_Dew_Point'].isnull()))\n",
    "ax = sns.distplot(df['Log_Day.1_Dew_Point'],fit=scipy.stats.norm, kde=False, hist=True, color='r')\n",
    "ax.plot()"
   ]
  },
  {
   "cell_type": "code",
   "execution_count": 80,
   "metadata": {},
   "outputs": [
    {
     "data": {
      "text/plain": [
       "[]"
      ]
     },
     "execution_count": 80,
     "metadata": {},
     "output_type": "execute_result"
    },
    {
     "data": {
      "image/png": "[encoded data removed]",
      "text/plain": [
       "<Figure size 432x288 with 1 Axes>"
      ]
     },
     "metadata": {},
     "output_type": "display_data"
    }
   ],
   "source": [
    "ax = sns.distplot(df['Day0_Humidity'],fit=scipy.stats.norm, kde=False, hist=True, color='r')\n",
    "ax.plot()"
   ]
  },
  {
   "cell_type": "code",
   "execution_count": 81,
   "metadata": {},
   "outputs": [
    {
     "name": "stdout",
     "output_type": "stream",
     "text": [
      "Missing values in Log_Day0_Humidity : 0\n"
     ]
    },
    {
     "data": {
      "text/plain": [
       "[]"
      ]
     },
     "execution_count": 81,
     "metadata": {},
     "output_type": "execute_result"
    },
    {
     "data": {
      "image/png": "[encoded data removed]",
      "text/plain": [
       "<Figure size 432x288 with 1 Axes>"
      ]
     },
     "metadata": {},
     "output_type": "display_data"
    }
   ],
   "source": [
    "df[\"Log_Day0_Humidity\"] = (np.log(1+df['Day0_Humidity']))\n",
    "df[\"Log_Day0_Humidity\"] = round(df[\"Log_Day0_Humidity\"],2)\n",
    "df['Log_Day0_Humidity'] = df['Log_Day0_Humidity'].replace({np.NaN:0})\n",
    "print('Missing values in Log_Day0_Humidity : %d' %sum(df['Log_Day0_Humidity'].isnull()))\n",
    "ax = sns.distplot(df['Log_Day0_Humidity'],fit=scipy.stats.norm, kde=False, hist=True, color='r')\n",
    "ax.plot()"
   ]
  },
  {
   "cell_type": "code",
   "execution_count": 82,
   "metadata": {
    "scrolled": true
   },
   "outputs": [
    {
     "data": {
      "text/plain": [
       "[]"
      ]
     },
     "execution_count": 82,
     "metadata": {},
     "output_type": "execute_result"
    },
    {
     "data": {
      "image/png": "[encoded data removed]",
      "text/plain": [
       "<Figure size 432x288 with 1 Axes>"
      ]
     },
     "metadata": {},
     "output_type": "display_data"
    }
   ],
   "source": [
    "ax = sns.distplot(df['Day0_Wind_Speed'],fit=scipy.stats.norm, kde=False, hist=True, color='r')\n",
    "ax.plot()"
   ]
  },
  {
   "cell_type": "code",
   "execution_count": 83,
   "metadata": {
    "scrolled": true
   },
   "outputs": [
    {
     "name": "stdout",
     "output_type": "stream",
     "text": [
      "Missing values in Log_Day0_Wind_Speed : 0\n"
     ]
    },
    {
     "data": {
      "text/plain": [
       "[]"
      ]
     },
     "execution_count": 83,
     "metadata": {},
     "output_type": "execute_result"
    },
    {
     "data": {
      "image/png": "[encoded data removed]",
      "text/plain": [
       "<Figure size 432x288 with 1 Axes>"
      ]
     },
     "metadata": {},
     "output_type": "display_data"
    }
   ],
   "source": [
    "df[\"Log_Day0_Wind_Speed\"] = (np.log(1+df['Day0_Wind_Speed']))\n",
    "df[\"Log_Day0_Wind_Speed\"] = round(df[\"Log_Day0_Wind_Speed\"],2)\n",
    "df['Log_Day0_Wind_Speed'] = df['Log_Day0_Wind_Speed'].replace({np.NaN:0})\n",
    "print('Missing values in Log_Day0_Wind_Speed : %d' %sum(df['Log_Day0_Wind_Speed'].isnull()))\n",
    "ax = sns.distplot(df['Log_Day0_Wind_Speed'],fit=scipy.stats.norm, kde=False, hist=True, color='r')\n",
    "ax.plot()"
   ]
  },
  {
   "cell_type": "code",
   "execution_count": 84,
   "metadata": {},
   "outputs": [
    {
     "data": {
      "text/plain": [
       "[]"
      ]
     },
     "execution_count": 84,
     "metadata": {},
     "output_type": "execute_result"
    },
    {
     "data": {
      "image/png": "[encoded data removed]",
      "text/plain": [
       "<Figure size 432x288 with 1 Axes>"
      ]
     },
     "metadata": {},
     "output_type": "display_data"
    }
   ],
   "source": [
    "ax = sns.distplot(df['Day0_Wind_Gust'],fit=scipy.stats.norm, kde=False, hist=True, color='r')\n",
    "ax.plot()"
   ]
  },
  {
   "cell_type": "code",
   "execution_count": 85,
   "metadata": {},
   "outputs": [
    {
     "name": "stdout",
     "output_type": "stream",
     "text": [
      "Missing values in Log_Day0_Wind_Gust : 0\n"
     ]
    },
    {
     "data": {
      "text/plain": [
       "[]"
      ]
     },
     "execution_count": 85,
     "metadata": {},
     "output_type": "execute_result"
    },
    {
     "data": {
      "image/png": "[encoded data removed]",
      "text/plain": [
       "<Figure size 432x288 with 1 Axes>"
      ]
     },
     "metadata": {},
     "output_type": "display_data"
    }
   ],
   "source": [
    "df[\"Log_Day0_Wind_Gust\"] = (np.log(1+df['Day0_Wind_Gust']))\n",
    "df[\"Log_Day0_Wind_Gust\"] = round(df[\"Log_Day0_Wind_Gust\"],2)\n",
    "df['Log_Day0_Wind_Gust'] = df['Log_Day0_Wind_Gust'].replace({np.NaN:0})\n",
    "print('Missing values in Log_Day0_Wind_Gust : %d' %sum(df['Log_Day0_Wind_Gust'].isnull()))\n",
    "ax = sns.distplot(df['Log_Day0_Wind_Gust'],fit=scipy.stats.norm, kde=False, hist=True, color='r')\n",
    "ax.plot()"
   ]
  },
  {
   "cell_type": "code",
   "execution_count": 86,
   "metadata": {},
   "outputs": [
    {
     "data": {
      "text/plain": [
       "[]"
      ]
     },
     "execution_count": 86,
     "metadata": {},
     "output_type": "execute_result"
    },
    {
     "data": {
      "image/png": "[encoded data removed]",
      "text/plain": [
       "<Figure size 432x288 with 1 Axes>"
      ]
     },
     "metadata": {},
     "output_type": "display_data"
    }
   ],
   "source": [
    "ax = sns.distplot(df['Day0_Pressure'],fit=scipy.stats.norm, kde=False, hist=True, color='r')\n",
    "ax.plot()                "
   ]
  },
  {
   "cell_type": "code",
   "execution_count": 87,
   "metadata": {},
   "outputs": [
    {
     "name": "stdout",
     "output_type": "stream",
     "text": [
      "Missing values in Log_Day0_Pressure : 0\n"
     ]
    },
    {
     "data": {
      "text/plain": [
       "[]"
      ]
     },
     "execution_count": 87,
     "metadata": {},
     "output_type": "execute_result"
    },
    {
     "data": {
      "image/png": "[encoded data removed]",
      "text/plain": [
       "<Figure size 432x288 with 1 Axes>"
      ]
     },
     "metadata": {},
     "output_type": "display_data"
    }
   ],
   "source": [
    "df[\"Log_Day0_Pressure\"] = (np.log(1+df['Day0_Pressure']))\n",
    "df[\"Log_Day0_Pressure\"] = round(df[\"Log_Day0_Pressure\"],2)\n",
    "df['Log_Day0_Pressure'] = df['Log_Day0_Pressure'].replace({np.NaN:0})\n",
    "print('Missing values in Log_Day0_Pressure : %d' %sum(df['Log_Day0_Pressure'].isnull()))\n",
    "ax = sns.distplot(df['Log_Day0_Pressure'],fit=scipy.stats.norm, kde=False, hist=True, color='r')\n",
    "ax.plot()"
   ]
  },
  {
   "cell_type": "markdown",
   "metadata": {},
   "source": [
    "Recalculate field values based on average of Area Affected as original column has arbritary 0 values"
   ]
  },
  {
   "cell_type": "code",
   "execution_count": 88,
   "metadata": {},
   "outputs": [],
   "source": [
    "#predict flood category \n",
    "for i, row in df.iterrows():\n",
    "    if df.loc[i,\"Area\"]  < 100000:\n",
    "        df.loc[i,\"Flood_Risk\"] = \"Low\"\n",
    "    elif df.loc[i,\"Area\"] > 150000:\n",
    "        df.loc[i,\"Flood_Risk\"] = \"High\"\n",
    "    else:\n",
    "        df.loc[i,\"Flood_Risk\"] = \"Moderate\"\n"
   ]
  },
  {
   "cell_type": "markdown",
   "metadata": {},
   "source": []
  },
  {
   "cell_type": "code",
   "execution_count": 89,
   "metadata": {},
   "outputs": [
    {
     "data": {
      "text/plain": [
       "Low         3617\n",
       "High         908\n",
       "Moderate     401\n",
       "Name: Flood_Risk, dtype: int64"
      ]
     },
     "execution_count": 89,
     "metadata": {},
     "output_type": "execute_result"
    },
    {
     "data": {
      "image/png": "[encoded data removed]",
      "text/plain": [
       "<Figure size 432x288 with 1 Axes>"
      ]
     },
     "metadata": {},
     "output_type": "display_data"
    }
   ],
   "source": [
    "#df[[\"Flood_Risk\"]].describe()\n",
    "pd.value_counts(df['Flood_Risk']).plot.bar()\n",
    "plt.title('Flood_Risk class histogram')\n",
    "plt.xlabel('Class')\n",
    "plt.ylabel('Frequency')\n",
    "df['Flood_Risk'].value_counts()"
   ]
  },
  {
   "cell_type": "code",
   "execution_count": 90,
   "metadata": {},
   "outputs": [],
   "source": [
    "#drop columns Day0_Wind, Day.2_Wind, Day.4_Wind  \n",
    "df = df.drop(['Day0_Wind','Day.1_Wind', 'Day.2_Wind','Day.3_Wind', 'Day.4_Wind','Severity'], axis=1)"
   ]
  },
  {
   "cell_type": "code",
   "execution_count": 92,
   "metadata": {},
   "outputs": [],
   "source": [
    "#Numerical and One-Hot Coding of Categorical variables\n",
    "#Import library:\n",
    "from sklearn.preprocessing import LabelEncoder\n",
    "le = LabelEncoder()\n",
    "var_mod = ['MainCause','Day0_Condition','Day.1_Condition','Day.2_Condition','Day.3_Condition','Day.4_Condition']\n",
    "le = LabelEncoder()\n",
    "for i in var_mod:\n",
    "    df[i] = le.fit_transform(df[i])\n",
    "    #non_co_rel_df[i] = le.fit_transform(non_co_rel_df[i])"
   ]
  },
  {
   "cell_type": "code",
   "execution_count": 93,
   "metadata": {},
   "outputs": [],
   "source": [
    "#One Hot Coding:\n",
    "df = pd.get_dummies(df, columns=['MainCause','Day0_Condition','Day.1_Condition','Day.2_Condition','Day.3_Condition','Day.4_Condition'])"
   ]
  },
  {
   "cell_type": "code",
   "execution_count": 94,
   "metadata": {},
   "outputs": [
    {
     "data": {
      "text/plain": [
       "Duration                   int64\n",
       "Area                     float64\n",
       "Area_Affected_per_day    float64\n",
       "Dead                     float64\n",
       "Displaced                  int64\n",
       "Elevation                float64\n",
       "Day0_Temperature         float64\n",
       "Day.1_Temperature        float64\n",
       "Day.2_Temperature        float64\n",
       "Day.3_Temperature        float64\n",
       "Day.4_Temperature        float64\n",
       "Day0_Dew_Point             int64\n",
       "Day.1_Dew_Point            int64\n",
       "Day.2_Dew_Point            int64\n",
       "Day.3_Dew_Point            int64\n",
       "Day.4_Dew_Point            int64\n",
       "Day0_Humidity              int64\n",
       "Day.1_Humidity             int64\n",
       "Day.2_Humidity             int64\n",
       "Day.3_Humidity             int64\n",
       "Day.4_Humidity             int64\n",
       "Day0_Wind_Speed          float64\n",
       "Day.1_Wind_Speed         float64\n",
       "Day.2_Wind_Speed         float64\n",
       "Day.3_Wind_Speed         float64\n",
       "Day.4_Wind_Speed         float64\n",
       "Day0_Wind_Gust             int64\n",
       "Day.1_Wind_Gust            int64\n",
       "Day.2_Wind_Gust            int64\n",
       "Day.3_Wind_Gust            int64\n",
       "                          ...   \n",
       "Day.2_Condition_5          uint8\n",
       "Day.2_Condition_6          uint8\n",
       "Day.2_Condition_7          uint8\n",
       "Day.2_Condition_8          uint8\n",
       "Day.2_Condition_9          uint8\n",
       "Day.2_Condition_10         uint8\n",
       "Day.2_Condition_11         uint8\n",
       "Day.2_Condition_12         uint8\n",
       "Day.2_Condition_13         uint8\n",
       "Day.2_Condition_14         uint8\n",
       "Day.2_Condition_15         uint8\n",
       "Day.3_Condition_0          uint8\n",
       "Day.3_Condition_1          uint8\n",
       "Day.3_Condition_2          uint8\n",
       "Day.3_Condition_3          uint8\n",
       "Day.3_Condition_4          uint8\n",
       "Day.3_Condition_5          uint8\n",
       "Day.3_Condition_6          uint8\n",
       "Day.3_Condition_7          uint8\n",
       "Day.4_Condition_0          uint8\n",
       "Day.4_Condition_1          uint8\n",
       "Day.4_Condition_2          uint8\n",
       "Day.4_Condition_3          uint8\n",
       "Day.4_Condition_4          uint8\n",
       "Day.4_Condition_5          uint8\n",
       "Day.4_Condition_6          uint8\n",
       "Day.4_Condition_7          uint8\n",
       "Day.4_Condition_8          uint8\n",
       "Day.4_Condition_9          uint8\n",
       "Day.4_Condition_10         uint8\n",
       "Length: 134, dtype: object"
      ]
     },
     "execution_count": 94,
     "metadata": {},
     "output_type": "execute_result"
    }
   ],
   "source": [
    "df.dtypes"
   ]
  },
  {
   "cell_type": "code",
   "execution_count": 95,
   "metadata": {},
   "outputs": [],
   "source": [
    "X = df.drop('Flood_Risk',axis=1)"
   ]
  },
  {
   "cell_type": "code",
   "execution_count": 96,
   "metadata": {},
   "outputs": [],
   "source": [
    "y=df['Flood_Risk']"
   ]
  },
  {
   "cell_type": "code",
   "execution_count": 97,
   "metadata": {},
   "outputs": [],
   "source": [
    "from imblearn.over_sampling import SMOTE\n",
    "sm = SMOTE(random_state=2)\n",
    "X_T,y_T = sm.fit_sample(X, y)"
   ]
  },
  {
   "cell_type": "code",
   "execution_count": 98,
   "metadata": {},
   "outputs": [
    {
     "data": {
      "text/plain": [
       "(10851, 133)"
      ]
     },
     "execution_count": 98,
     "metadata": {},
     "output_type": "execute_result"
    }
   ],
   "source": [
    "X_T.shape"
   ]
  },
  {
   "cell_type": "code",
   "execution_count": 99,
   "metadata": {},
   "outputs": [
    {
     "data": {
      "text/plain": [
       "Low         3617\n",
       "High        3617\n",
       "Moderate    3617\n",
       "Name: Flood_Risk, dtype: int64"
      ]
     },
     "execution_count": 99,
     "metadata": {},
     "output_type": "execute_result"
    },
    {
     "data": {
      "image/png": "[encoded data removed]",
      "text/plain": [
       "<Figure size 432x288 with 1 Axes>"
      ]
     },
     "metadata": {},
     "output_type": "display_data"
    }
   ],
   "source": [
    "#df[[\"Flood_Risk\"]].describe()\n",
    "pd.value_counts(y_T).plot.bar()\n",
    "plt.title('Flood_Risk class histogram')\n",
    "plt.xlabel('Class')\n",
    "plt.ylabel('Frequency')\n",
    "y_T.value_counts()"
   ]
  },
  {
   "cell_type": "code",
   "execution_count": 100,
   "metadata": {},
   "outputs": [],
   "source": [
    "df_col = pd.concat([X_T,y_T], axis=1)"
   ]
  },
  {
   "cell_type": "code",
   "execution_count": 101,
   "metadata": {},
   "outputs": [
    {
     "data": {
      "text/plain": [
       "Duration                   int64\n",
       "Area                     float64\n",
       "Area_Affected_per_day    float64\n",
       "Dead                     float64\n",
       "Displaced                  int64\n",
       "Elevation                float64\n",
       "Day0_Temperature         float64\n",
       "Day.1_Temperature        float64\n",
       "Day.2_Temperature        float64\n",
       "Day.3_Temperature        float64\n",
       "Day.4_Temperature        float64\n",
       "Day0_Dew_Point             int64\n",
       "Day.1_Dew_Point            int64\n",
       "Day.2_Dew_Point            int64\n",
       "Day.3_Dew_Point            int64\n",
       "Day.4_Dew_Point            int64\n",
       "Day0_Humidity              int64\n",
       "Day.1_Humidity             int64\n",
       "Day.2_Humidity             int64\n",
       "Day.3_Humidity             int64\n",
       "Day.4_Humidity             int64\n",
       "Day0_Wind_Speed          float64\n",
       "Day.1_Wind_Speed         float64\n",
       "Day.2_Wind_Speed         float64\n",
       "Day.3_Wind_Speed         float64\n",
       "Day.4_Wind_Speed         float64\n",
       "Day0_Wind_Gust             int64\n",
       "Day.1_Wind_Gust            int64\n",
       "Day.2_Wind_Gust            int64\n",
       "Day.3_Wind_Gust            int64\n",
       "                          ...   \n",
       "Day.2_Condition_6          uint8\n",
       "Day.2_Condition_7          uint8\n",
       "Day.2_Condition_8          uint8\n",
       "Day.2_Condition_9          uint8\n",
       "Day.2_Condition_10         uint8\n",
       "Day.2_Condition_11         uint8\n",
       "Day.2_Condition_12         uint8\n",
       "Day.2_Condition_13         uint8\n",
       "Day.2_Condition_14         uint8\n",
       "Day.2_Condition_15         uint8\n",
       "Day.3_Condition_0          uint8\n",
       "Day.3_Condition_1          uint8\n",
       "Day.3_Condition_2          uint8\n",
       "Day.3_Condition_3          uint8\n",
       "Day.3_Condition_4          uint8\n",
       "Day.3_Condition_5          uint8\n",
       "Day.3_Condition_6          uint8\n",
       "Day.3_Condition_7          uint8\n",
       "Day.4_Condition_0          uint8\n",
       "Day.4_Condition_1          uint8\n",
       "Day.4_Condition_2          uint8\n",
       "Day.4_Condition_3          uint8\n",
       "Day.4_Condition_4          uint8\n",
       "Day.4_Condition_5          uint8\n",
       "Day.4_Condition_6          uint8\n",
       "Day.4_Condition_7          uint8\n",
       "Day.4_Condition_8          uint8\n",
       "Day.4_Condition_9          uint8\n",
       "Day.4_Condition_10         uint8\n",
       "Flood_Risk                object\n",
       "Length: 134, dtype: object"
      ]
     },
     "execution_count": 101,
     "metadata": {},
     "output_type": "execute_result"
    }
   ],
   "source": [
    "df_col.dtypes"
   ]
  },
  {
   "cell_type": "code",
   "execution_count": 104,
   "metadata": {},
   "outputs": [
    {
     "name": "stdout",
     "output_type": "stream",
     "text": [
      "'Duration',\n",
      "'Area',\n",
      "'Area_Affected_per_day',\n",
      "'Dead',\n",
      "'Displaced',\n",
      "'Elevation',\n",
      "'Day0_Temperature',\n",
      "'Day.1_Temperature',\n",
      "'Day.2_Temperature',\n",
      "'Day.3_Temperature',\n",
      "'Day.4_Temperature',\n",
      "'Day0_Dew_Point',\n",
      "'Day.1_Dew_Point',\n",
      "'Day.2_Dew_Point',\n",
      "'Day.3_Dew_Point',\n",
      "'Day.4_Dew_Point',\n",
      "'Day0_Humidity',\n",
      "'Day.1_Humidity',\n",
      "'Day.2_Humidity',\n",
      "'Day.3_Humidity',\n",
      "'Day.4_Humidity',\n",
      "'Day0_Wind_Speed',\n",
      "'Day.1_Wind_Speed',\n",
      "'Day.2_Wind_Speed',\n",
      "'Day.3_Wind_Speed',\n",
      "'Day.4_Wind_Speed',\n",
      "'Day0_Wind_Gust',\n",
      "'Day.1_Wind_Gust',\n",
      "'Day.2_Wind_Gust',\n",
      "'Day.3_Wind_Gust',\n",
      "'Day.4_Wind_Gust',\n",
      "'Day0_Pressure',\n",
      "'Day.1_Pressure',\n",
      "'Day.2_Pressure',\n",
      "'Day.3_Pressure',\n",
      "'Day.4_Pressure',\n",
      "'Log_Dead',\n",
      "'ID',\n",
      "'Log_Area_Affected_per_day',\n",
      "'Log_Duration',\n",
      "'Sqrt_Log_Duration',\n",
      "'Log_Displaced',\n",
      "'Log_Area',\n",
      "'Log_Day0_Temperature',\n",
      "'Log_Day.1_Temperature',\n",
      "'Log_Day.2_Temperature',\n",
      "'Log_Day0_Dew_Point',\n",
      "'Log_Day.1_Dew_Point',\n",
      "'Log_Day0_Humidity',\n",
      "'Log_Day0_Wind_Speed',\n",
      "'Log_Day0_Wind_Gust',\n",
      "'Log_Day0_Pressure',\n",
      "'MainCause_0',\n",
      "'MainCause_1',\n",
      "'MainCause_2',\n",
      "'MainCause_3',\n",
      "'MainCause_4',\n",
      "'MainCause_5',\n",
      "'MainCause_6',\n",
      "'MainCause_7',\n",
      "'MainCause_8',\n",
      "'MainCause_9',\n",
      "'MainCause_10',\n",
      "'MainCause_11',\n",
      "'MainCause_12',\n",
      "'MainCause_13',\n",
      "'MainCause_14',\n",
      "'MainCause_15',\n",
      "'MainCause_16',\n",
      "'MainCause_17',\n",
      "'MainCause_18',\n",
      "'MainCause_19',\n",
      "'MainCause_20',\n",
      "'MainCause_21',\n",
      "'MainCause_22',\n",
      "'Day0_Condition_0',\n",
      "'Day0_Condition_1',\n",
      "'Day0_Condition_2',\n",
      "'Day0_Condition_3',\n",
      "'Day0_Condition_4',\n",
      "'Day0_Condition_5',\n",
      "'Day0_Condition_6',\n",
      "'Day0_Condition_7',\n",
      "'Day0_Condition_8',\n",
      "'Day0_Condition_9',\n",
      "'Day0_Condition_10',\n",
      "'Day0_Condition_11',\n",
      "'Day0_Condition_12',\n",
      "'Day0_Condition_13',\n",
      "'Day.1_Condition_0',\n",
      "'Day.1_Condition_1',\n",
      "'Day.1_Condition_2',\n",
      "'Day.1_Condition_3',\n",
      "'Day.1_Condition_4',\n",
      "'Day.1_Condition_5',\n",
      "'Day.1_Condition_6',\n",
      "'Day.1_Condition_7',\n",
      "'Day.1_Condition_8',\n",
      "'Day.2_Condition_0',\n",
      "'Day.2_Condition_1',\n",
      "'Day.2_Condition_2',\n",
      "'Day.2_Condition_3',\n",
      "'Day.2_Condition_4',\n",
      "'Day.2_Condition_5',\n",
      "'Day.2_Condition_6',\n",
      "'Day.2_Condition_7',\n",
      "'Day.2_Condition_8',\n",
      "'Day.2_Condition_9',\n",
      "'Day.2_Condition_10',\n",
      "'Day.2_Condition_11',\n",
      "'Day.2_Condition_12',\n",
      "'Day.2_Condition_13',\n",
      "'Day.2_Condition_14',\n",
      "'Day.2_Condition_15',\n",
      "'Day.3_Condition_0',\n",
      "'Day.3_Condition_1',\n",
      "'Day.3_Condition_2',\n",
      "'Day.3_Condition_3',\n",
      "'Day.3_Condition_4',\n",
      "'Day.3_Condition_5',\n",
      "'Day.3_Condition_6',\n",
      "'Day.3_Condition_7',\n",
      "'Day.4_Condition_0',\n",
      "'Day.4_Condition_1',\n",
      "'Day.4_Condition_2',\n",
      "'Day.4_Condition_3',\n",
      "'Day.4_Condition_4',\n",
      "'Day.4_Condition_5',\n",
      "'Day.4_Condition_6',\n",
      "'Day.4_Condition_7',\n",
      "'Day.4_Condition_8',\n",
      "'Day.4_Condition_9',\n",
      "'Day.4_Condition_10',\n",
      "'Flood_Risk',\n"
     ]
    }
   ],
   "source": [
    "i=''\n",
    "for col in df_col.columns: \n",
    "    i = \"'\"+col+\"'\"+\",\"\n",
    "    print(i) "
   ]
  },
  {
   "cell_type": "code",
   "execution_count": 105,
   "metadata": {},
   "outputs": [],
   "source": [
    "#dataframe for dimensionality reduction\n",
    "df_dm = df_col[['ID','Area','Log_Area','Area_Affected_per_day','Log_Area_Affected_per_day','Log_Duration','Log_Dead','Log_Displaced','Day0_Temperature'\n",
    "                 ,'Day.1_Temperature','Day.2_Temperature','Day.3_Temperature','Day.4_Temperature','Day0_Dew_Point'\n",
    "                 ,'Day.1_Dew_Point','Day.2_Dew_Point','Day.3_Dew_Point','Day.4_Dew_Point'\n",
    "                 ,'Day0_Humidity','Day.1_Humidity','Day.2_Humidity','Day.3_Humidity','Day.4_Humidity'\n",
    "                 ,'Day0_Wind_Speed','Day.1_Wind_Speed','Day.2_Wind_Speed','Day.3_Wind_Speed','Day.4_Wind_Speed'\n",
    "                 ,'Day0_Wind_Gust','Day0_Pressure','Day.1_Pressure','Day.2_Pressure','Day.3_Pressure','Day.4_Pressure'\n",
    "                ,'MainCause_0',\n",
    "'MainCause_1',\n",
    "'MainCause_2',\n",
    "'MainCause_3',\n",
    "'MainCause_4',\n",
    "'MainCause_5',\n",
    "'MainCause_6',\n",
    "'MainCause_7',\n",
    "'MainCause_8',\n",
    "'MainCause_9',\n",
    "'MainCause_10',\n",
    "'MainCause_11',\n",
    "'MainCause_12',\n",
    "'MainCause_13',\n",
    "'MainCause_14',\n",
    "'MainCause_15',\n",
    "'MainCause_16',\n",
    "'MainCause_17',\n",
    "'MainCause_18',\n",
    "'MainCause_19',\n",
    "'MainCause_20',\n",
    "'MainCause_21',\n",
    "'MainCause_22',\n",
    "'Day0_Condition_0',\n",
    "'Day0_Condition_1',\n",
    "'Day0_Condition_2',\n",
    "'Day0_Condition_3',\n",
    "'Day0_Condition_4',\n",
    "'Day0_Condition_5',\n",
    "'Day0_Condition_6',\n",
    "'Day0_Condition_7',\n",
    "'Day0_Condition_8',\n",
    "'Day0_Condition_9',\n",
    "'Day0_Condition_10',\n",
    "'Day0_Condition_11',\n",
    "'Day0_Condition_12',\n",
    "'Day0_Condition_13',\n",
    "'Day.1_Condition_0',\n",
    "'Day.1_Condition_1',\n",
    "'Day.1_Condition_2',\n",
    "'Day.1_Condition_3',\n",
    "'Day.1_Condition_4',\n",
    "'Day.1_Condition_5',\n",
    "'Day.1_Condition_6',\n",
    "'Day.1_Condition_7',\n",
    "'Day.1_Condition_8',\n",
    "'Day.2_Condition_0',\n",
    "'Day.2_Condition_1',\n",
    "'Day.2_Condition_2',\n",
    "'Day.2_Condition_3',\n",
    "'Day.2_Condition_4',\n",
    "'Day.2_Condition_5',\n",
    "'Day.2_Condition_6',\n",
    "'Day.2_Condition_7',\n",
    "'Day.2_Condition_8',\n",
    "'Day.2_Condition_9',\n",
    "'Day.2_Condition_10',\n",
    "'Day.2_Condition_11',\n",
    "'Day.2_Condition_12',\n",
    "'Day.2_Condition_13',\n",
    "'Day.2_Condition_14',\n",
    "'Day.2_Condition_15',\n",
    "'Day.3_Condition_0',\n",
    "'Day.3_Condition_1',\n",
    "'Day.3_Condition_2',\n",
    "'Day.3_Condition_3',\n",
    "'Day.3_Condition_4',\n",
    "'Day.3_Condition_5',\n",
    "'Day.3_Condition_6',\n",
    "'Day.3_Condition_7',\n",
    "'Day.4_Condition_0',\n",
    "'Day.4_Condition_1',\n",
    "'Day.4_Condition_2',\n",
    "'Day.4_Condition_3',\n",
    "'Day.4_Condition_4',\n",
    "'Day.4_Condition_5',\n",
    "'Day.4_Condition_6',\n",
    "'Day.4_Condition_7',\n",
    "'Day.4_Condition_8',\n",
    "'Day.4_Condition_9',\n",
    "'Day.4_Condition_10'\n",
    "                ,'Flood_Risk']]"
   ]
  },
  {
   "cell_type": "code",
   "execution_count": 106,
   "metadata": {},
   "outputs": [],
   "source": [
    "#df_dm.to_csv('D:\\\\Research Project\\\\Datasets\\\\Flood intensity\\\\data url\\\\Final Data\\\\for_dimensionality_reduction.csv')\n",
    "df_dm.to_csv('D:\\\\Research Project\\\\Datasets\\\\Flood intensity\\\\data url\\\\Final Data\\\\for_dimensionality_reduction1.csv')"
   ]
  },
  {
   "cell_type": "code",
   "execution_count": null,
   "metadata": {},
   "outputs": [],
   "source": []
  }
 ],
 "metadata": {
  "kernelspec": {
   "display_name": "Python 3",
   "language": "python",
   "name": "python3"
  },
  "language_info": {
   "codemirror_mode": {
    "name": "ipython",
    "version": 3
   },
   "file_extension": ".py",
   "mimetype": "text/x-python",
   "name": "python",
   "nbconvert_exporter": "python",
   "pygments_lexer": "ipython3",
   "version": "3.7.3"
  }
 },
 "nbformat": 4,
 "nbformat_minor": 2
}
