{
 "cells": [
  {
   "cell_type": "markdown",
   "metadata": {},
   "source": [
    "# Import libraries"
   ]
  },
  {
   "cell_type": "code",
   "execution_count": 1,
   "metadata": {},
   "outputs": [],
   "source": [
    "import numpy as np\n",
    "import pandas as pd\n",
    "import matplotlib.pyplot as plt\n",
    "from sklearn.preprocessing import StandardScaler\n",
    "from sklearn.decomposition import PCA\n",
    "from sklearn.cluster import KMeans\n",
    "from sklearn.manifold import TSNE\n",
    "import plotly.graph_objs as go\n",
    "import plotly .offline as offline\n",
    "import plotly.figure_factory as ff"
   ]
  },
  {
   "cell_type": "markdown",
   "metadata": {},
   "source": [
    "# Read csv file"
   ]
  },
  {
   "cell_type": "code",
   "execution_count": 2,
   "metadata": {},
   "outputs": [
    {
     "data": {
      "text/html": [
       "<div>\n",
       "<style scoped>\n",
       "    .dataframe tbody tr th:only-of-type {\n",
       "        vertical-align: middle;\n",
       "    }\n",
       "\n",
       "    .dataframe tbody tr th {\n",
       "        vertical-align: top;\n",
       "    }\n",
       "\n",
       "    .dataframe thead th {\n",
       "        text-align: right;\n",
       "    }\n",
       "</style>\n",
       "<table border=\"1\" class=\"dataframe\">\n",
       "  <thead>\n",
       "    <tr style=\"text-align: right;\">\n",
       "      <th></th>\n",
       "      <th>Unnamed: 0</th>\n",
       "      <th>ID</th>\n",
       "      <th>Area</th>\n",
       "      <th>Log_Area</th>\n",
       "      <th>Area_Affected_per_day</th>\n",
       "      <th>Log_Area_Affected_per_day</th>\n",
       "      <th>Log_Duration</th>\n",
       "      <th>Log_Dead</th>\n",
       "      <th>Log_Displaced</th>\n",
       "      <th>Day0_Temperature</th>\n",
       "      <th>...</th>\n",
       "      <th>Day.4_Condition_2</th>\n",
       "      <th>Day.4_Condition_3</th>\n",
       "      <th>Day.4_Condition_4</th>\n",
       "      <th>Day.4_Condition_5</th>\n",
       "      <th>Day.4_Condition_6</th>\n",
       "      <th>Day.4_Condition_7</th>\n",
       "      <th>Day.4_Condition_8</th>\n",
       "      <th>Day.4_Condition_9</th>\n",
       "      <th>Day.4_Condition_10</th>\n",
       "      <th>Flood_Risk</th>\n",
       "    </tr>\n",
       "  </thead>\n",
       "  <tbody>\n",
       "    <tr>\n",
       "      <th>0</th>\n",
       "      <td>0</td>\n",
       "      <td>1</td>\n",
       "      <td>92615.67</td>\n",
       "      <td>11.44</td>\n",
       "      <td>23153.92</td>\n",
       "      <td>10.05</td>\n",
       "      <td>1.61</td>\n",
       "      <td>3.30</td>\n",
       "      <td>8.01</td>\n",
       "      <td>66.20</td>\n",
       "      <td>...</td>\n",
       "      <td>0</td>\n",
       "      <td>0</td>\n",
       "      <td>0</td>\n",
       "      <td>0</td>\n",
       "      <td>0</td>\n",
       "      <td>0</td>\n",
       "      <td>0</td>\n",
       "      <td>0</td>\n",
       "      <td>0</td>\n",
       "      <td>Low</td>\n",
       "    </tr>\n",
       "    <tr>\n",
       "      <th>1</th>\n",
       "      <td>1</td>\n",
       "      <td>2</td>\n",
       "      <td>678498.82</td>\n",
       "      <td>13.43</td>\n",
       "      <td>37694.38</td>\n",
       "      <td>10.54</td>\n",
       "      <td>2.94</td>\n",
       "      <td>5.44</td>\n",
       "      <td>11.29</td>\n",
       "      <td>68.59</td>\n",
       "      <td>...</td>\n",
       "      <td>0</td>\n",
       "      <td>0</td>\n",
       "      <td>0</td>\n",
       "      <td>0</td>\n",
       "      <td>0</td>\n",
       "      <td>0</td>\n",
       "      <td>0</td>\n",
       "      <td>0</td>\n",
       "      <td>0</td>\n",
       "      <td>High</td>\n",
       "    </tr>\n",
       "    <tr>\n",
       "      <th>2</th>\n",
       "      <td>2</td>\n",
       "      <td>3</td>\n",
       "      <td>12846.03</td>\n",
       "      <td>9.46</td>\n",
       "      <td>12846.03</td>\n",
       "      <td>9.46</td>\n",
       "      <td>0.69</td>\n",
       "      <td>3.78</td>\n",
       "      <td>6.10</td>\n",
       "      <td>77.79</td>\n",
       "      <td>...</td>\n",
       "      <td>0</td>\n",
       "      <td>0</td>\n",
       "      <td>0</td>\n",
       "      <td>0</td>\n",
       "      <td>0</td>\n",
       "      <td>0</td>\n",
       "      <td>0</td>\n",
       "      <td>0</td>\n",
       "      <td>0</td>\n",
       "      <td>Low</td>\n",
       "    </tr>\n",
       "    <tr>\n",
       "      <th>3</th>\n",
       "      <td>3</td>\n",
       "      <td>4</td>\n",
       "      <td>16542.12</td>\n",
       "      <td>9.71</td>\n",
       "      <td>1181.58</td>\n",
       "      <td>7.08</td>\n",
       "      <td>2.71</td>\n",
       "      <td>3.09</td>\n",
       "      <td>5.71</td>\n",
       "      <td>89.60</td>\n",
       "      <td>...</td>\n",
       "      <td>0</td>\n",
       "      <td>0</td>\n",
       "      <td>0</td>\n",
       "      <td>0</td>\n",
       "      <td>0</td>\n",
       "      <td>0</td>\n",
       "      <td>0</td>\n",
       "      <td>0</td>\n",
       "      <td>0</td>\n",
       "      <td>Low</td>\n",
       "    </tr>\n",
       "    <tr>\n",
       "      <th>4</th>\n",
       "      <td>4</td>\n",
       "      <td>5</td>\n",
       "      <td>20082.21</td>\n",
       "      <td>9.91</td>\n",
       "      <td>10041.10</td>\n",
       "      <td>9.21</td>\n",
       "      <td>1.10</td>\n",
       "      <td>3.00</td>\n",
       "      <td>0.00</td>\n",
       "      <td>53.29</td>\n",
       "      <td>...</td>\n",
       "      <td>0</td>\n",
       "      <td>0</td>\n",
       "      <td>0</td>\n",
       "      <td>0</td>\n",
       "      <td>0</td>\n",
       "      <td>0</td>\n",
       "      <td>0</td>\n",
       "      <td>0</td>\n",
       "      <td>0</td>\n",
       "      <td>Low</td>\n",
       "    </tr>\n",
       "  </tbody>\n",
       "</table>\n",
       "<p>5 rows × 117 columns</p>\n",
       "</div>"
      ],
      "text/plain": [
       "   Unnamed: 0  ID       Area  Log_Area  Area_Affected_per_day  \\\n",
       "0           0   1   92615.67     11.44               23153.92   \n",
       "1           1   2  678498.82     13.43               37694.38   \n",
       "2           2   3   12846.03      9.46               12846.03   \n",
       "3           3   4   16542.12      9.71                1181.58   \n",
       "4           4   5   20082.21      9.91               10041.10   \n",
       "\n",
       "   Log_Area_Affected_per_day  Log_Duration  Log_Dead  Log_Displaced  \\\n",
       "0                      10.05          1.61      3.30           8.01   \n",
       "1                      10.54          2.94      5.44          11.29   \n",
       "2                       9.46          0.69      3.78           6.10   \n",
       "3                       7.08          2.71      3.09           5.71   \n",
       "4                       9.21          1.10      3.00           0.00   \n",
       "\n",
       "   Day0_Temperature  ...  Day.4_Condition_2  Day.4_Condition_3  \\\n",
       "0             66.20  ...                  0                  0   \n",
       "1             68.59  ...                  0                  0   \n",
       "2             77.79  ...                  0                  0   \n",
       "3             89.60  ...                  0                  0   \n",
       "4             53.29  ...                  0                  0   \n",
       "\n",
       "   Day.4_Condition_4  Day.4_Condition_5  Day.4_Condition_6  Day.4_Condition_7  \\\n",
       "0                  0                  0                  0                  0   \n",
       "1                  0                  0                  0                  0   \n",
       "2                  0                  0                  0                  0   \n",
       "3                  0                  0                  0                  0   \n",
       "4                  0                  0                  0                  0   \n",
       "\n",
       "   Day.4_Condition_8  Day.4_Condition_9  Day.4_Condition_10  Flood_Risk  \n",
       "0                  0                  0                   0         Low  \n",
       "1                  0                  0                   0        High  \n",
       "2                  0                  0                   0         Low  \n",
       "3                  0                  0                   0         Low  \n",
       "4                  0                  0                   0         Low  \n",
       "\n",
       "[5 rows x 117 columns]"
      ]
     },
     "execution_count": 2,
     "metadata": {},
     "output_type": "execute_result"
    }
   ],
   "source": [
    "\n",
    "\n",
    "dataset = pd.read_csv(\"D:\\\\Research Project\\\\Datasets\\\\Flood intensity\\\\data url\\\\Final Data\\\\Classification\\\\for_dimensionality_reduction1.csv\", encoding= 'unicode_escape')\n",
    "dataset.head()\n"
   ]
  },
  {
   "cell_type": "code",
   "execution_count": 3,
   "metadata": {},
   "outputs": [
    {
     "name": "stdout",
     "output_type": "stream",
     "text": [
      "(10851, 117)\n",
      "<class 'pandas.core.frame.DataFrame'>\n",
      "RangeIndex: 10851 entries, 0 to 10850\n",
      "Columns: 117 entries, Unnamed: 0 to Flood_Risk\n",
      "dtypes: float64(22), int64(94), object(1)\n",
      "memory usage: 9.7+ MB\n",
      "None\n",
      "        Unnamed: 0            ID          Area      Log_Area  \\\n",
      "count  10851.00000  10851.000000  1.085100e+04  10851.000000   \n",
      "mean    5425.00000   2574.302368  1.864237e+05     11.309600   \n",
      "std     3132.55822   1324.244927  2.603372e+05      1.622261   \n",
      "min        0.00000      1.000000  1.195650e+01      2.560000   \n",
      "25%     2712.50000   1443.000000  4.420653e+04     10.700000   \n",
      "50%     5425.00000   2640.000000  1.217253e+05     11.708245   \n",
      "75%     8137.50000   3706.000000  2.011250e+05     12.210998   \n",
      "max    10850.00000   4928.000000  4.814281e+06     15.390000   \n",
      "\n",
      "       Area_Affected_per_day  Log_Area_Affected_per_day  Log_Duration  \\\n",
      "count           1.085100e+04               10851.000000  10851.000000   \n",
      "mean            2.823020e+04                   9.331311      2.165262   \n",
      "std             4.589087e+04                   1.509101      0.937605   \n",
      "min             3.940000e+00                   1.600000      0.000000   \n",
      "25%             4.709083e+03                   8.427066      1.390000   \n",
      "50%             1.358019e+04                   9.497507      2.080000   \n",
      "75%             3.230540e+04                  10.350018      2.842099   \n",
      "max             1.148027e+06                  13.950000      4.580000   \n",
      "\n",
      "           Log_Dead  Log_Displaced  Day0_Temperature  ...  Day.4_Condition_1  \\\n",
      "count  10851.000000   10851.000000      10851.000000  ...       10851.000000   \n",
      "mean       2.151571       6.681417         70.138740  ...           0.409824   \n",
      "std        1.739475       4.461432         13.185545  ...           0.491824   \n",
      "min        0.000000       0.000000         -8.000000  ...           0.000000   \n",
      "25%        0.690000       2.768702         62.962804  ...           0.000000   \n",
      "50%        1.982579       7.380000         72.869139  ...           0.000000   \n",
      "75%        3.330000      10.109817         79.000000  ...           1.000000   \n",
      "max       11.980000      17.500000        103.870000  ...           1.000000   \n",
      "\n",
      "       Day.4_Condition_2  Day.4_Condition_3  Day.4_Condition_4  \\\n",
      "count       10851.000000       10851.000000       10851.000000   \n",
      "mean            0.000092           0.000092           0.000369   \n",
      "std             0.009600           0.009600           0.019197   \n",
      "min             0.000000           0.000000           0.000000   \n",
      "25%             0.000000           0.000000           0.000000   \n",
      "50%             0.000000           0.000000           0.000000   \n",
      "75%             0.000000           0.000000           0.000000   \n",
      "max             1.000000           1.000000           1.000000   \n",
      "\n",
      "       Day.4_Condition_5  Day.4_Condition_6  Day.4_Condition_7  \\\n",
      "count       10851.000000       10851.000000       10851.000000   \n",
      "mean            0.000092           0.004424           0.000092   \n",
      "std             0.009600           0.066366           0.009600   \n",
      "min             0.000000           0.000000           0.000000   \n",
      "25%             0.000000           0.000000           0.000000   \n",
      "50%             0.000000           0.000000           0.000000   \n",
      "75%             0.000000           0.000000           0.000000   \n",
      "max             1.000000           1.000000           1.000000   \n",
      "\n",
      "       Day.4_Condition_8  Day.4_Condition_9  Day.4_Condition_10  \n",
      "count       10851.000000       10851.000000        10851.000000  \n",
      "mean            0.063681           0.000092            0.001290  \n",
      "std             0.244195           0.009600            0.035898  \n",
      "min             0.000000           0.000000            0.000000  \n",
      "25%             0.000000           0.000000            0.000000  \n",
      "50%             0.000000           0.000000            0.000000  \n",
      "75%             0.000000           0.000000            0.000000  \n",
      "max             1.000000           1.000000            1.000000  \n",
      "\n",
      "[8 rows x 116 columns]\n"
     ]
    }
   ],
   "source": [
    "print(dataset.shape)\n",
    "print(dataset.info())\n",
    "print(dataset.describe())"
   ]
  },
  {
   "cell_type": "code",
   "execution_count": 4,
   "metadata": {},
   "outputs": [
    {
     "data": {
      "text/plain": [
       "'corrheatmap.html'"
      ]
     },
     "execution_count": 4,
     "metadata": {},
     "output_type": "execute_result"
    }
   ],
   "source": [
    "corrs = dataset.corr()\n",
    "figure = ff.create_annotated_heatmap(\n",
    "    z=corrs.values,\n",
    "    x=list(corrs.columns),\n",
    "    y=list(corrs.index),\n",
    "    annotation_text=corrs.round(2).values,\n",
    "    showscale=True)\n",
    "offline.plot(figure,filename='corrheatmap.html')"
   ]
  },
  {
   "cell_type": "code",
   "execution_count": 5,
   "metadata": {},
   "outputs": [
    {
     "data": {
      "text/html": [
       "<div>\n",
       "<style scoped>\n",
       "    .dataframe tbody tr th:only-of-type {\n",
       "        vertical-align: middle;\n",
       "    }\n",
       "\n",
       "    .dataframe tbody tr th {\n",
       "        vertical-align: top;\n",
       "    }\n",
       "\n",
       "    .dataframe thead th {\n",
       "        text-align: right;\n",
       "    }\n",
       "</style>\n",
       "<table border=\"1\" class=\"dataframe\">\n",
       "  <thead>\n",
       "    <tr style=\"text-align: right;\">\n",
       "      <th></th>\n",
       "      <th>Unnamed: 0</th>\n",
       "      <th>ID</th>\n",
       "      <th>Area</th>\n",
       "      <th>Log_Area</th>\n",
       "      <th>Area_Affected_per_day</th>\n",
       "      <th>Log_Area_Affected_per_day</th>\n",
       "      <th>Log_Duration</th>\n",
       "      <th>Log_Dead</th>\n",
       "      <th>Log_Displaced</th>\n",
       "      <th>Day0_Temperature</th>\n",
       "      <th>...</th>\n",
       "      <th>Day.4_Condition_4</th>\n",
       "      <th>Day.4_Condition_5</th>\n",
       "      <th>Day.4_Condition_6</th>\n",
       "      <th>Day.4_Condition_7</th>\n",
       "      <th>Day.4_Condition_8</th>\n",
       "      <th>Day.4_Condition_9</th>\n",
       "      <th>Day.4_Condition_10</th>\n",
       "      <th>Flood_Risk_High</th>\n",
       "      <th>Flood_Risk_Low</th>\n",
       "      <th>Flood_Risk_Moderate</th>\n",
       "    </tr>\n",
       "  </thead>\n",
       "  <tbody>\n",
       "    <tr>\n",
       "      <th>0</th>\n",
       "      <td>0</td>\n",
       "      <td>1</td>\n",
       "      <td>92615.67</td>\n",
       "      <td>11.44</td>\n",
       "      <td>23153.92</td>\n",
       "      <td>10.05</td>\n",
       "      <td>1.61</td>\n",
       "      <td>3.30</td>\n",
       "      <td>8.01</td>\n",
       "      <td>66.20</td>\n",
       "      <td>...</td>\n",
       "      <td>0</td>\n",
       "      <td>0</td>\n",
       "      <td>0</td>\n",
       "      <td>0</td>\n",
       "      <td>0</td>\n",
       "      <td>0</td>\n",
       "      <td>0</td>\n",
       "      <td>0</td>\n",
       "      <td>1</td>\n",
       "      <td>0</td>\n",
       "    </tr>\n",
       "    <tr>\n",
       "      <th>1</th>\n",
       "      <td>1</td>\n",
       "      <td>2</td>\n",
       "      <td>678498.82</td>\n",
       "      <td>13.43</td>\n",
       "      <td>37694.38</td>\n",
       "      <td>10.54</td>\n",
       "      <td>2.94</td>\n",
       "      <td>5.44</td>\n",
       "      <td>11.29</td>\n",
       "      <td>68.59</td>\n",
       "      <td>...</td>\n",
       "      <td>0</td>\n",
       "      <td>0</td>\n",
       "      <td>0</td>\n",
       "      <td>0</td>\n",
       "      <td>0</td>\n",
       "      <td>0</td>\n",
       "      <td>0</td>\n",
       "      <td>1</td>\n",
       "      <td>0</td>\n",
       "      <td>0</td>\n",
       "    </tr>\n",
       "  </tbody>\n",
       "</table>\n",
       "<p>2 rows × 119 columns</p>\n",
       "</div>"
      ],
      "text/plain": [
       "   Unnamed: 0  ID       Area  Log_Area  Area_Affected_per_day  \\\n",
       "0           0   1   92615.67     11.44               23153.92   \n",
       "1           1   2  678498.82     13.43               37694.38   \n",
       "\n",
       "   Log_Area_Affected_per_day  Log_Duration  Log_Dead  Log_Displaced  \\\n",
       "0                      10.05          1.61      3.30           8.01   \n",
       "1                      10.54          2.94      5.44          11.29   \n",
       "\n",
       "   Day0_Temperature  ...  Day.4_Condition_4  Day.4_Condition_5  \\\n",
       "0             66.20  ...                  0                  0   \n",
       "1             68.59  ...                  0                  0   \n",
       "\n",
       "   Day.4_Condition_6  Day.4_Condition_7  Day.4_Condition_8  Day.4_Condition_9  \\\n",
       "0                  0                  0                  0                  0   \n",
       "1                  0                  0                  0                  0   \n",
       "\n",
       "   Day.4_Condition_10  Flood_Risk_High  Flood_Risk_Low  Flood_Risk_Moderate  \n",
       "0                   0                0               1                    0  \n",
       "1                   0                1               0                    0  \n",
       "\n",
       "[2 rows x 119 columns]"
      ]
     },
     "execution_count": 5,
     "metadata": {},
     "output_type": "execute_result"
    }
   ],
   "source": [
    "categorical_features = ['Flood_Risk']\n",
    "final_data = pd.get_dummies(dataset, columns = categorical_features)\n",
    "\n",
    "final_data.head(2)"
   ]
  },
  {
   "cell_type": "code",
   "execution_count": 6,
   "metadata": {},
   "outputs": [
    {
     "data": {
      "text/plain": [
       "Unnamed: 0                     int64\n",
       "ID                             int64\n",
       "Area                         float64\n",
       "Log_Area                     float64\n",
       "Area_Affected_per_day        float64\n",
       "Log_Area_Affected_per_day    float64\n",
       "Log_Duration                 float64\n",
       "Log_Dead                     float64\n",
       "Log_Displaced                float64\n",
       "Day0_Temperature             float64\n",
       "Day.1_Temperature            float64\n",
       "Day.2_Temperature            float64\n",
       "Day.3_Temperature            float64\n",
       "Day.4_Temperature            float64\n",
       "Day0_Dew_Point                 int64\n",
       "Day.1_Dew_Point                int64\n",
       "Day.2_Dew_Point                int64\n",
       "Day.3_Dew_Point                int64\n",
       "Day.4_Dew_Point                int64\n",
       "Day0_Humidity                  int64\n",
       "Day.1_Humidity                 int64\n",
       "Day.2_Humidity                 int64\n",
       "Day.3_Humidity                 int64\n",
       "Day.4_Humidity                 int64\n",
       "Day0_Wind_Speed              float64\n",
       "Day.1_Wind_Speed             float64\n",
       "Day.2_Wind_Speed             float64\n",
       "Day.3_Wind_Speed             float64\n",
       "Day.4_Wind_Speed             float64\n",
       "Day0_Wind_Gust                 int64\n",
       "                              ...   \n",
       "Day.2_Condition_8              int64\n",
       "Day.2_Condition_9              int64\n",
       "Day.2_Condition_10             int64\n",
       "Day.2_Condition_11             int64\n",
       "Day.2_Condition_12             int64\n",
       "Day.2_Condition_13             int64\n",
       "Day.2_Condition_14             int64\n",
       "Day.2_Condition_15             int64\n",
       "Day.3_Condition_0              int64\n",
       "Day.3_Condition_1              int64\n",
       "Day.3_Condition_2              int64\n",
       "Day.3_Condition_3              int64\n",
       "Day.3_Condition_4              int64\n",
       "Day.3_Condition_5              int64\n",
       "Day.3_Condition_6              int64\n",
       "Day.3_Condition_7              int64\n",
       "Day.4_Condition_0              int64\n",
       "Day.4_Condition_1              int64\n",
       "Day.4_Condition_2              int64\n",
       "Day.4_Condition_3              int64\n",
       "Day.4_Condition_4              int64\n",
       "Day.4_Condition_5              int64\n",
       "Day.4_Condition_6              int64\n",
       "Day.4_Condition_7              int64\n",
       "Day.4_Condition_8              int64\n",
       "Day.4_Condition_9              int64\n",
       "Day.4_Condition_10             int64\n",
       "Flood_Risk_High                uint8\n",
       "Flood_Risk_Low                 uint8\n",
       "Flood_Risk_Moderate            uint8\n",
       "Length: 119, dtype: object"
      ]
     },
     "execution_count": 6,
     "metadata": {},
     "output_type": "execute_result"
    }
   ],
   "source": [
    "final_data.dtypes"
   ]
  },
  {
   "cell_type": "code",
   "execution_count": 7,
   "metadata": {},
   "outputs": [],
   "source": [
    "subset1 = final_data[['Flood_Risk_High','Flood_Risk_Low','Flood_Risk_Moderate','Log_Area','Log_Dead','Log_Duration']]"
   ]
  },
  {
   "cell_type": "code",
   "execution_count": 8,
   "metadata": {},
   "outputs": [
    {
     "data": {
      "text/html": [
       "<div>\n",
       "<style scoped>\n",
       "    .dataframe tbody tr th:only-of-type {\n",
       "        vertical-align: middle;\n",
       "    }\n",
       "\n",
       "    .dataframe tbody tr th {\n",
       "        vertical-align: top;\n",
       "    }\n",
       "\n",
       "    .dataframe thead th {\n",
       "        text-align: right;\n",
       "    }\n",
       "</style>\n",
       "<table border=\"1\" class=\"dataframe\">\n",
       "  <thead>\n",
       "    <tr style=\"text-align: right;\">\n",
       "      <th></th>\n",
       "      <th>Flood_Risk_High</th>\n",
       "      <th>Flood_Risk_Low</th>\n",
       "      <th>Flood_Risk_Moderate</th>\n",
       "      <th>Log_Area</th>\n",
       "      <th>Log_Dead</th>\n",
       "      <th>Log_Duration</th>\n",
       "    </tr>\n",
       "  </thead>\n",
       "  <tbody>\n",
       "    <tr>\n",
       "      <th>0</th>\n",
       "      <td>0</td>\n",
       "      <td>1</td>\n",
       "      <td>0</td>\n",
       "      <td>11.44</td>\n",
       "      <td>3.30</td>\n",
       "      <td>1.61</td>\n",
       "    </tr>\n",
       "    <tr>\n",
       "      <th>1</th>\n",
       "      <td>1</td>\n",
       "      <td>0</td>\n",
       "      <td>0</td>\n",
       "      <td>13.43</td>\n",
       "      <td>5.44</td>\n",
       "      <td>2.94</td>\n",
       "    </tr>\n",
       "    <tr>\n",
       "      <th>2</th>\n",
       "      <td>0</td>\n",
       "      <td>1</td>\n",
       "      <td>0</td>\n",
       "      <td>9.46</td>\n",
       "      <td>3.78</td>\n",
       "      <td>0.69</td>\n",
       "    </tr>\n",
       "    <tr>\n",
       "      <th>3</th>\n",
       "      <td>0</td>\n",
       "      <td>1</td>\n",
       "      <td>0</td>\n",
       "      <td>9.71</td>\n",
       "      <td>3.09</td>\n",
       "      <td>2.71</td>\n",
       "    </tr>\n",
       "    <tr>\n",
       "      <th>4</th>\n",
       "      <td>0</td>\n",
       "      <td>1</td>\n",
       "      <td>0</td>\n",
       "      <td>9.91</td>\n",
       "      <td>3.00</td>\n",
       "      <td>1.10</td>\n",
       "    </tr>\n",
       "  </tbody>\n",
       "</table>\n",
       "</div>"
      ],
      "text/plain": [
       "   Flood_Risk_High  Flood_Risk_Low  Flood_Risk_Moderate  Log_Area  Log_Dead  \\\n",
       "0                0               1                    0     11.44      3.30   \n",
       "1                1               0                    0     13.43      5.44   \n",
       "2                0               1                    0      9.46      3.78   \n",
       "3                0               1                    0      9.71      3.09   \n",
       "4                0               1                    0      9.91      3.00   \n",
       "\n",
       "   Log_Duration  \n",
       "0          1.61  \n",
       "1          2.94  \n",
       "2          0.69  \n",
       "3          2.71  \n",
       "4          1.10  "
      ]
     },
     "execution_count": 8,
     "metadata": {},
     "output_type": "execute_result"
    }
   ],
   "source": [
    "subset1.head()"
   ]
  },
  {
   "cell_type": "code",
   "execution_count": 9,
   "metadata": {},
   "outputs": [],
   "source": [
    "feature_scaler = StandardScaler()\n",
    "X1 = feature_scaler.fit_transform(subset1)"
   ]
  },
  {
   "cell_type": "code",
   "execution_count": 10,
   "metadata": {},
   "outputs": [],
   "source": [
    "inertia = []\n",
    "for i in range(1,11):\n",
    "    kmeans = KMeans(n_clusters = i, random_state = 100)\n",
    "    kmeans.fit(X1)\n",
    "    inertia.append(kmeans.inertia_)"
   ]
  },
  {
   "cell_type": "code",
   "execution_count": 11,
   "metadata": {},
   "outputs": [
    {
     "data": {
      "image/png": "[encoded data removed]",
      "text/plain": [
       "<Figure size 432x288 with 1 Axes>"
      ]
     },
     "metadata": {
      "needs_background": "light"
     },
     "output_type": "display_data"
    }
   ],
   "source": [
    "plt.plot(range(1, 11), inertia)\n",
    "plt.title('The Elbow Plot')\n",
    "plt.xlabel('Number of clusters')\n",
    "plt.ylabel('Inertia')\n",
    "plt.show()"
   ]
  },
  {
   "cell_type": "code",
   "execution_count": 12,
   "metadata": {},
   "outputs": [
    {
     "data": {
      "text/plain": [
       "KMeans(n_clusters=3)"
      ]
     },
     "execution_count": 12,
     "metadata": {},
     "output_type": "execute_result"
    }
   ],
   "source": [
    "kmeans = KMeans(n_clusters = 3)\n",
    "kmeans.fit(X1)"
   ]
  },
  {
   "cell_type": "code",
   "execution_count": 13,
   "metadata": {},
   "outputs": [],
   "source": [
    "tsne = TSNE(n_components = 2, perplexity =30,n_iter=2000)\n",
    "x_tsne = tsne.fit_transform(X1)"
   ]
  },
  {
   "cell_type": "code",
   "execution_count": 14,
   "metadata": {},
   "outputs": [
    {
     "data": {
      "text/plain": [
       "(10851, 2)"
      ]
     },
     "execution_count": 14,
     "metadata": {},
     "output_type": "execute_result"
    }
   ],
   "source": [
    "x_tsne.shape"
   ]
  },
  {
   "cell_type": "code",
   "execution_count": 15,
   "metadata": {},
   "outputs": [],
   "source": [
    "Area_Affected = list(dataset['Log_Area'])\n",
    "Dead = list(dataset['Log_Dead'])\n",
    "Duration = list(dataset['Log_Duration'])\n",
    "Risk = list(dataset['Flood_Risk'])"
   ]
  },
  {
   "cell_type": "code",
   "execution_count": 16,
   "metadata": {},
   "outputs": [
    {
     "data": {
      "text/plain": [
       "array([0, 2, 0, ..., 1, 1, 1])"
      ]
     },
     "execution_count": 16,
     "metadata": {},
     "output_type": "execute_result"
    }
   ],
   "source": [
    "kmeans.labels_"
   ]
  },
  {
   "cell_type": "code",
   "execution_count": 17,
   "metadata": {},
   "outputs": [
    {
     "data": {
      "text/plain": [
       "'t-SNE1.html'"
      ]
     },
     "execution_count": 17,
     "metadata": {},
     "output_type": "execute_result"
    }
   ],
   "source": [
    "data = [go.Scatter(x=x_tsne[:,0], y=x_tsne[:,1], mode='markers',\n",
    "                    marker = dict(color=kmeans.labels_, colorscale='Rainbow', opacity=0.5),\n",
    "                                text=[f'Area_Affected: {a}; Dead: {b}; Duration:{c}; Risk: {d} ' for a,b,c,d in list(zip(Area_Affected,Dead,Duration,Risk))],\n",
    "                                hoverinfo='text')]\n",
    "\n",
    "layout = go.Layout(title = 't-SNE Dimensionality Reduction', width = 700, height = 700,\n",
    "                    xaxis = dict(title='First Dimension'),\n",
    "                    yaxis = dict(title='Second Dimension'))\n",
    "fig = go.Figure(data=data, layout=layout)\n",
    "offline.plot(fig,filename='t-SNE1.html')"
   ]
  },
  {
   "cell_type": "code",
   "execution_count": null,
   "metadata": {},
   "outputs": [],
   "source": []
  },
  {
   "cell_type": "code",
   "execution_count": null,
   "metadata": {},
   "outputs": [],
   "source": []
  }
 ],
 "metadata": {
  "kernelspec": {
   "display_name": "Python 3",
   "language": "python",
   "name": "python3"
  },
  "language_info": {
   "codemirror_mode": {
    "name": "ipython",
    "version": 3
   },
   "file_extension": ".py",
   "mimetype": "text/x-python",
   "name": "python",
   "nbconvert_exporter": "python",
   "pygments_lexer": "ipython3",
   "version": "3.7.3"
  }
 },
 "nbformat": 4,
 "nbformat_minor": 2
}
